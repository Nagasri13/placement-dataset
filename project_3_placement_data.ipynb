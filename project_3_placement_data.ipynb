{
 "cells": [
  {
   "cell_type": "markdown",
   "id": "421b88ce",
   "metadata": {},
   "source": [
    "# PLACEMENT DATA "
   ]
  },
  {
   "cell_type": "markdown",
   "id": "92455f38",
   "metadata": {},
   "source": [
    "# Feature Description\n",
    "Gender- Male='M',Female='F'\n",
    "\n",
    "ssc_p- Secondary Education percentage- 10th Grade\n",
    "\n",
    "ssc_b - Board of Education- Central/ Others\n",
    "\n",
    "hsc_p - Higher Secondary Education percentage- 12th Grade\n",
    "\n",
    "hsc_b - Board of Education- Central/ Others\n",
    "\n",
    "hsc_s - Specialization in Higher Secondary Education\n",
    "\n",
    "degree_p - Degree Percentage\n",
    "\n",
    "degree_t - Under Graduation(Degree type)- Field of degree education\n",
    "\n",
    "workex - Work Experience\n",
    "\n",
    "etest_p - Employability test percentage ( conducted by college)\n",
    "\n",
    "specialisation - Post Graduation(MBA)- Specialization\n",
    "\n",
    "mba_p- MBA percentage\n",
    "\n",
    "status- Status of placement- Placed/Not placed\n",
    "\n",
    "salary - Salary offered by corporate to candidates"
   ]
  },
  {
   "cell_type": "code",
   "execution_count": 1,
   "id": "78df05be",
   "metadata": {},
   "outputs": [],
   "source": [
    "#! pip install missingno"
   ]
  },
  {
   "cell_type": "markdown",
   "id": "29fbf153",
   "metadata": {},
   "source": [
    "# IMPORTING LIBRARIES"
   ]
  },
  {
   "cell_type": "code",
   "execution_count": 2,
   "id": "1332dab3",
   "metadata": {},
   "outputs": [
    {
     "ename": "ModuleNotFoundError",
     "evalue": "No module named 'missingno'",
     "output_type": "error",
     "traceback": [
      "\u001b[1;31m---------------------------------------------------------------------------\u001b[0m",
      "\u001b[1;31mModuleNotFoundError\u001b[0m                       Traceback (most recent call last)",
      "\u001b[1;32m~\\AppData\\Local\\Temp\\ipykernel_7444\\1589114702.py\u001b[0m in \u001b[0;36m<module>\u001b[1;34m\u001b[0m\n\u001b[0;32m     16\u001b[0m \u001b[1;32mfrom\u001b[0m \u001b[0msklearn\u001b[0m\u001b[1;33m.\u001b[0m\u001b[0mtree\u001b[0m \u001b[1;32mimport\u001b[0m \u001b[0mDecisionTreeClassifier\u001b[0m\u001b[1;33m,\u001b[0m\u001b[0mplot_tree\u001b[0m\u001b[1;33m\u001b[0m\u001b[1;33m\u001b[0m\u001b[0m\n\u001b[0;32m     17\u001b[0m \u001b[1;32mfrom\u001b[0m \u001b[0msklearn\u001b[0m\u001b[1;33m.\u001b[0m\u001b[0mmetrics\u001b[0m \u001b[1;32mimport\u001b[0m \u001b[0mconfusion_matrix\u001b[0m\u001b[1;33m\u001b[0m\u001b[1;33m\u001b[0m\u001b[0m\n\u001b[1;32m---> 18\u001b[1;33m \u001b[1;32mimport\u001b[0m \u001b[0mmissingno\u001b[0m \u001b[1;32mas\u001b[0m \u001b[0mmsn\u001b[0m\u001b[1;33m\u001b[0m\u001b[1;33m\u001b[0m\u001b[0m\n\u001b[0m",
      "\u001b[1;31mModuleNotFoundError\u001b[0m: No module named 'missingno'"
     ]
    }
   ],
   "source": [
    "import pandas as pd\n",
    "import numpy as np # linear algebra\n",
    "import pandas as pd # data processing, CSV file I/O (e.g. pd.read_csv)\n",
    "import matplotlib.pyplot as plt\n",
    "import seaborn as sns\n",
    "import plotly.express as px\n",
    "from sklearn.model_selection import train_test_split\n",
    "from sklearn.linear_model import LogisticRegression\n",
    "from sklearn.metrics import classification_report, accuracy_score\n",
    "from scipy.stats import shapiro , pearsonr\n",
    "import statsmodels.api as sm\n",
    "import warnings \n",
    "warnings.filterwarnings('ignore')\n",
    "from sklearn.preprocessing import StandardScaler\n",
    "from sklearn.ensemble import RandomForestClassifier\n",
    "from sklearn.tree import DecisionTreeClassifier,plot_tree\n",
    "from sklearn.metrics import confusion_matrix\n",
    "import missingno as msn\n"
   ]
  },
  {
   "cell_type": "markdown",
   "id": "5bf8cb6f",
   "metadata": {},
   "source": [
    "# USER DEFINED FUNCTIONS"
   ]
  },
  {
   "cell_type": "code",
   "execution_count": null,
   "id": "93573331",
   "metadata": {},
   "outputs": [],
   "source": [
    "def miss_val(x):\n",
    "    miss_val =[]\n",
    "    for i in x.columns:\n",
    "        for j in x[i]:\n",
    "            if x[x[i].isna()].shape[0]>=1:\n",
    "                miss_val.extend(x[x[i].isna()].index)\n",
    "    return miss_val\n",
    "\n",
    "            \n",
    "            \n",
    "def univariate_outlier(x):\n",
    "    q1 = df[x].describe().T[\"25%\"]\n",
    "    q3 = df[x].describe().T[\"75%\"]\n",
    "    iqr = q3-q1\n",
    "    inner = q1 -1.5*iqr\n",
    "    outer = q3 +1.5*iqr\n",
    "    out=[]\n",
    "    for i,j in df[x].iteritems():\n",
    "        if inner<j<outer:\n",
    "            pass\n",
    "        else:\n",
    "            out.append(j)\n",
    "    return out\n",
    "\n",
    "    \n",
    "    \n",
    "    \n",
    "def feature_box_kde_normality(x):\n",
    "    normality_test(df[x])\n",
    "    out=univariate_outlier(x)\n",
    "    if len(out)==0:\n",
    "        print(f\"There is no outlier in {x}\")\n",
    "    else:\n",
    "        print(\"Outlier :\",out)\n",
    "    f,(ax1,ax2) = plt.subplots(1,2,figsize=[15,3])\n",
    "    sns.boxplot(data=df,x=x,ax=ax1)\n",
    "    sns.kdeplot(data=df,x=x,ax=ax2)\n",
    "    \n",
    "def normality_test(x):\n",
    "    s,p = shapiro(x)\n",
    "    print(f\"The statistic value is {s} with p-value : {p}\")\n",
    "    if p>0.05:\n",
    "        print(f\"{x.name} is normally distributed\")\n",
    "    else:\n",
    "        print(f\"{x.name} is not normally distributed\")\n",
    "        \n",
    "def missing_values(df):\n",
    "    for i in df.columns:\n",
    "        df[i].fillna(df[i].mode()[0],inplace=True)\n",
    "        \n",
    "def feature_analysis(x):\n",
    "    a = df[x].unique()\n",
    "    d = df[x].value_counts()\n",
    "    b = df[x].value_counts(normalize = True)*100\n",
    "    c = df[x].isna().sum()\n",
    "    print('unique_values:', '\\n', a, '\\n', 'value_counts:','\\n', d, '\\n','proportion of value:', '\\n', b, '\\n','count of nan values:', c)\n",
    "    \n",
    "def count_plot(x):\n",
    "    fig, (axis)  = plt.subplots(1, 1,figsize=(10,7))\n",
    "    sns.countplot(x=df[x], data=df, ax=axis)\n",
    "    plt.title('Count Plot for Categorical Variable ',x, fontsize = 15)\n",
    "\n",
    "def high_frequency(x):\n",
    "    fig, (axis) = plt.subplots(1,1, figsize = (10,7))\n",
    "    sns.countplot(x= df[x], data = df, ax = axis)\n",
    "    print('the variable with more frequency is', df[x].mode()[0])\n",
    "    \n",
    "def comparison_plot(x,y):\n",
    "    fig,(axis1) = plt.subplots(1,1,figsize=(15,10))\n",
    "    sns.countplot(x=df[x], hue= y ,data=df, ax = axis1)\n",
    "    plt.show()\n",
    "    \n",
    "def multi_comparison (x,y,z):\n",
    "    fig, (axis1)  = plt.subplots(1, 1,figsize=(20,10))\n",
    "    sns.barplot(x=df[x], y= df[y], hue=df[z], data=df, ax=axis1)\n",
    "    \n",
    "\n",
    "def cat_dtype_change(x):\n",
    "    df[x]= df[x].astype('object')\n",
    "    df[x].info()\n",
    "    \n",
    "def pie_chart(x):\n",
    "    fig,ax = plt.subplots(1,1,figsize=[20,10])\n",
    "    temp = dict(df[x].value_counts())\n",
    "    ax.pie(temp.values(),labels=temp.keys(),autopct=\"%.1f%%\");\n",
    "    \n",
    "def train_test(x,y):\n",
    "    x_encoded = pd.get_dummies(x, drop_first=True)\n",
    "    scaler = StandardScaler()\n",
    "    scaler.fit(x_encoded)\n",
    "    x1 = scaler.fit_transform(x_encoded)\n",
    "    x_train, x_test, y_train, y_test = train_test_split(x1, y, test_size=0.3, random_state=45)\n",
    "    \n",
    "def model_build(x_train, y_train):\n",
    "    Logit_Model = LogisticRegression()\n",
    "    Logit_Model.fit(x_train,y_train)\n",
    "    decision_tree = DecisionTreeClassifier(criterion = 'entropy')\n",
    "    decision_tree.fit(x_train,y_train)\n",
    "    random_forest = RandomForestClassifier(n_estimators=10)\n",
    "    random_forest.fit(x_train, y_train)\n",
    "    models = {'logis': Logit_Model, 'decision tree': decision_tree, 'random_forest': random_forest}\n",
    "    return models\n",
    "\n",
    "def results(x_train, x_test, y_train, y_test, models):\n",
    "    for model_name , model in models.items():\n",
    "        train_pred = model.predict(x_train)\n",
    "        print('training results', model_name)\n",
    "        print(classification_report(y_train, train_pred))\n",
    "        cm= confusion_matrix(y_train, train_pred)\n",
    "        print('Confusion matrix')\n",
    "        print(cm)\n",
    "    \n",
    "        print('Test Results')\n",
    "        test_pred = model.predict(x_test)\n",
    "        print(classification_report(y_test, test_pred))\n",
    "        cm =confusion_matrix(y_test, test_pred)\n",
    "        print('Confusion matrix')\n",
    "        print(cm)\n",
    "\n",
    "\n",
    "def count_pie(x):\n",
    "    plt.figure(figsize = (15,5))\n",
    "    explode = [0.15,0]\n",
    "    plt.subplot(121)\n",
    "    df[x].value_counts().plot(kind ='pie',autopct = '%.2f',explode=explode)\n",
    "    plt.subplot(122)\n",
    "    sns.countplot(data = df, x = df[x])\n",
    "    print('the variable with more frequency is', df[x].mode()[0])\n",
    "    \n",
    "    \n",
    "def multi_pie_count(x,z,y):\n",
    "    plt.figure(figsize = (20,5))\n",
    "    plt.subplot(131)\n",
    "    df[x].value_counts().plot(kind ='pie',autopct = '%.2f')\n",
    "    plt.subplot(132)\n",
    "    sns.countplot(data = df, x = df[x],hue =df[z])\n",
    "    plt.subplot(133)\n",
    "    sns.countplot(data = df, x = df[x],hue =df[y])\n",
    "    \n",
    "def status_ratio(x):    \n",
    "    placed = df[df['status']== 'Placed'][x].value_counts(normalize= True)*100\n",
    "    not_placed = df[df['status']== 'Not Placed'][x].value_counts(normalize= True)*100\n",
    "\n",
    "    print('persons get placements:' '\\n', placed)\n",
    "\n",
    "    print('\\n')\n",
    "\n",
    "    print('persons not get placements:','\\n', not_placed)\n",
    "    "
   ]
  },
  {
   "cell_type": "code",
   "execution_count": null,
   "id": "da827f2f",
   "metadata": {},
   "outputs": [],
   "source": []
  },
  {
   "cell_type": "markdown",
   "id": "465b5cdd",
   "metadata": {},
   "source": [
    "# LOAD DATASET"
   ]
  },
  {
   "cell_type": "code",
   "execution_count": 4,
   "id": "4b6725f6",
   "metadata": {},
   "outputs": [],
   "source": [
    "df = pd.read_csv('Placement_Data_Full_Class.csv')"
   ]
  },
  {
   "cell_type": "code",
   "execution_count": 5,
   "id": "08326e92",
   "metadata": {},
   "outputs": [
    {
     "data": {
      "text/html": [
       "<div>\n",
       "<style scoped>\n",
       "    .dataframe tbody tr th:only-of-type {\n",
       "        vertical-align: middle;\n",
       "    }\n",
       "\n",
       "    .dataframe tbody tr th {\n",
       "        vertical-align: top;\n",
       "    }\n",
       "\n",
       "    .dataframe thead th {\n",
       "        text-align: right;\n",
       "    }\n",
       "</style>\n",
       "<table border=\"1\" class=\"dataframe\">\n",
       "  <thead>\n",
       "    <tr style=\"text-align: right;\">\n",
       "      <th></th>\n",
       "      <th>sl_no</th>\n",
       "      <th>gender</th>\n",
       "      <th>ssc_p</th>\n",
       "      <th>ssc_b</th>\n",
       "      <th>hsc_p</th>\n",
       "      <th>hsc_b</th>\n",
       "      <th>hsc_s</th>\n",
       "      <th>degree_p</th>\n",
       "      <th>degree_t</th>\n",
       "      <th>workex</th>\n",
       "      <th>etest_p</th>\n",
       "      <th>specialisation</th>\n",
       "      <th>mba_p</th>\n",
       "      <th>status</th>\n",
       "      <th>salary</th>\n",
       "    </tr>\n",
       "  </thead>\n",
       "  <tbody>\n",
       "    <tr>\n",
       "      <th>0</th>\n",
       "      <td>1</td>\n",
       "      <td>M</td>\n",
       "      <td>67.00</td>\n",
       "      <td>Others</td>\n",
       "      <td>91.00</td>\n",
       "      <td>Others</td>\n",
       "      <td>Commerce</td>\n",
       "      <td>58.00</td>\n",
       "      <td>Sci&amp;Tech</td>\n",
       "      <td>No</td>\n",
       "      <td>55.0</td>\n",
       "      <td>Mkt&amp;HR</td>\n",
       "      <td>58.80</td>\n",
       "      <td>Placed</td>\n",
       "      <td>270000.0</td>\n",
       "    </tr>\n",
       "    <tr>\n",
       "      <th>1</th>\n",
       "      <td>2</td>\n",
       "      <td>M</td>\n",
       "      <td>79.33</td>\n",
       "      <td>Central</td>\n",
       "      <td>78.33</td>\n",
       "      <td>Others</td>\n",
       "      <td>Science</td>\n",
       "      <td>77.48</td>\n",
       "      <td>Sci&amp;Tech</td>\n",
       "      <td>Yes</td>\n",
       "      <td>86.5</td>\n",
       "      <td>Mkt&amp;Fin</td>\n",
       "      <td>66.28</td>\n",
       "      <td>Placed</td>\n",
       "      <td>200000.0</td>\n",
       "    </tr>\n",
       "    <tr>\n",
       "      <th>2</th>\n",
       "      <td>3</td>\n",
       "      <td>M</td>\n",
       "      <td>65.00</td>\n",
       "      <td>Central</td>\n",
       "      <td>68.00</td>\n",
       "      <td>Central</td>\n",
       "      <td>Arts</td>\n",
       "      <td>64.00</td>\n",
       "      <td>Comm&amp;Mgmt</td>\n",
       "      <td>No</td>\n",
       "      <td>75.0</td>\n",
       "      <td>Mkt&amp;Fin</td>\n",
       "      <td>57.80</td>\n",
       "      <td>Placed</td>\n",
       "      <td>250000.0</td>\n",
       "    </tr>\n",
       "    <tr>\n",
       "      <th>3</th>\n",
       "      <td>4</td>\n",
       "      <td>M</td>\n",
       "      <td>56.00</td>\n",
       "      <td>Central</td>\n",
       "      <td>52.00</td>\n",
       "      <td>Central</td>\n",
       "      <td>Science</td>\n",
       "      <td>52.00</td>\n",
       "      <td>Sci&amp;Tech</td>\n",
       "      <td>No</td>\n",
       "      <td>66.0</td>\n",
       "      <td>Mkt&amp;HR</td>\n",
       "      <td>59.43</td>\n",
       "      <td>Not Placed</td>\n",
       "      <td>NaN</td>\n",
       "    </tr>\n",
       "    <tr>\n",
       "      <th>4</th>\n",
       "      <td>5</td>\n",
       "      <td>M</td>\n",
       "      <td>85.80</td>\n",
       "      <td>Central</td>\n",
       "      <td>73.60</td>\n",
       "      <td>Central</td>\n",
       "      <td>Commerce</td>\n",
       "      <td>73.30</td>\n",
       "      <td>Comm&amp;Mgmt</td>\n",
       "      <td>No</td>\n",
       "      <td>96.8</td>\n",
       "      <td>Mkt&amp;Fin</td>\n",
       "      <td>55.50</td>\n",
       "      <td>Placed</td>\n",
       "      <td>425000.0</td>\n",
       "    </tr>\n",
       "    <tr>\n",
       "      <th>...</th>\n",
       "      <td>...</td>\n",
       "      <td>...</td>\n",
       "      <td>...</td>\n",
       "      <td>...</td>\n",
       "      <td>...</td>\n",
       "      <td>...</td>\n",
       "      <td>...</td>\n",
       "      <td>...</td>\n",
       "      <td>...</td>\n",
       "      <td>...</td>\n",
       "      <td>...</td>\n",
       "      <td>...</td>\n",
       "      <td>...</td>\n",
       "      <td>...</td>\n",
       "      <td>...</td>\n",
       "    </tr>\n",
       "    <tr>\n",
       "      <th>210</th>\n",
       "      <td>211</td>\n",
       "      <td>M</td>\n",
       "      <td>80.60</td>\n",
       "      <td>Others</td>\n",
       "      <td>82.00</td>\n",
       "      <td>Others</td>\n",
       "      <td>Commerce</td>\n",
       "      <td>77.60</td>\n",
       "      <td>Comm&amp;Mgmt</td>\n",
       "      <td>No</td>\n",
       "      <td>91.0</td>\n",
       "      <td>Mkt&amp;Fin</td>\n",
       "      <td>74.49</td>\n",
       "      <td>Placed</td>\n",
       "      <td>400000.0</td>\n",
       "    </tr>\n",
       "    <tr>\n",
       "      <th>211</th>\n",
       "      <td>212</td>\n",
       "      <td>M</td>\n",
       "      <td>58.00</td>\n",
       "      <td>Others</td>\n",
       "      <td>60.00</td>\n",
       "      <td>Others</td>\n",
       "      <td>Science</td>\n",
       "      <td>72.00</td>\n",
       "      <td>Sci&amp;Tech</td>\n",
       "      <td>No</td>\n",
       "      <td>74.0</td>\n",
       "      <td>Mkt&amp;Fin</td>\n",
       "      <td>53.62</td>\n",
       "      <td>Placed</td>\n",
       "      <td>275000.0</td>\n",
       "    </tr>\n",
       "    <tr>\n",
       "      <th>212</th>\n",
       "      <td>213</td>\n",
       "      <td>M</td>\n",
       "      <td>67.00</td>\n",
       "      <td>Others</td>\n",
       "      <td>67.00</td>\n",
       "      <td>Others</td>\n",
       "      <td>Commerce</td>\n",
       "      <td>73.00</td>\n",
       "      <td>Comm&amp;Mgmt</td>\n",
       "      <td>Yes</td>\n",
       "      <td>59.0</td>\n",
       "      <td>Mkt&amp;Fin</td>\n",
       "      <td>69.72</td>\n",
       "      <td>Placed</td>\n",
       "      <td>295000.0</td>\n",
       "    </tr>\n",
       "    <tr>\n",
       "      <th>213</th>\n",
       "      <td>214</td>\n",
       "      <td>F</td>\n",
       "      <td>74.00</td>\n",
       "      <td>Others</td>\n",
       "      <td>66.00</td>\n",
       "      <td>Others</td>\n",
       "      <td>Commerce</td>\n",
       "      <td>58.00</td>\n",
       "      <td>Comm&amp;Mgmt</td>\n",
       "      <td>No</td>\n",
       "      <td>70.0</td>\n",
       "      <td>Mkt&amp;HR</td>\n",
       "      <td>60.23</td>\n",
       "      <td>Placed</td>\n",
       "      <td>204000.0</td>\n",
       "    </tr>\n",
       "    <tr>\n",
       "      <th>214</th>\n",
       "      <td>215</td>\n",
       "      <td>M</td>\n",
       "      <td>62.00</td>\n",
       "      <td>Central</td>\n",
       "      <td>58.00</td>\n",
       "      <td>Others</td>\n",
       "      <td>Science</td>\n",
       "      <td>53.00</td>\n",
       "      <td>Comm&amp;Mgmt</td>\n",
       "      <td>No</td>\n",
       "      <td>89.0</td>\n",
       "      <td>Mkt&amp;HR</td>\n",
       "      <td>60.22</td>\n",
       "      <td>Not Placed</td>\n",
       "      <td>NaN</td>\n",
       "    </tr>\n",
       "  </tbody>\n",
       "</table>\n",
       "<p>215 rows × 15 columns</p>\n",
       "</div>"
      ],
      "text/plain": [
       "     sl_no gender  ssc_p    ssc_b  hsc_p    hsc_b     hsc_s  degree_p  \\\n",
       "0        1      M  67.00   Others  91.00   Others  Commerce     58.00   \n",
       "1        2      M  79.33  Central  78.33   Others   Science     77.48   \n",
       "2        3      M  65.00  Central  68.00  Central      Arts     64.00   \n",
       "3        4      M  56.00  Central  52.00  Central   Science     52.00   \n",
       "4        5      M  85.80  Central  73.60  Central  Commerce     73.30   \n",
       "..     ...    ...    ...      ...    ...      ...       ...       ...   \n",
       "210    211      M  80.60   Others  82.00   Others  Commerce     77.60   \n",
       "211    212      M  58.00   Others  60.00   Others   Science     72.00   \n",
       "212    213      M  67.00   Others  67.00   Others  Commerce     73.00   \n",
       "213    214      F  74.00   Others  66.00   Others  Commerce     58.00   \n",
       "214    215      M  62.00  Central  58.00   Others   Science     53.00   \n",
       "\n",
       "      degree_t workex  etest_p specialisation  mba_p      status    salary  \n",
       "0     Sci&Tech     No     55.0         Mkt&HR  58.80      Placed  270000.0  \n",
       "1     Sci&Tech    Yes     86.5        Mkt&Fin  66.28      Placed  200000.0  \n",
       "2    Comm&Mgmt     No     75.0        Mkt&Fin  57.80      Placed  250000.0  \n",
       "3     Sci&Tech     No     66.0         Mkt&HR  59.43  Not Placed       NaN  \n",
       "4    Comm&Mgmt     No     96.8        Mkt&Fin  55.50      Placed  425000.0  \n",
       "..         ...    ...      ...            ...    ...         ...       ...  \n",
       "210  Comm&Mgmt     No     91.0        Mkt&Fin  74.49      Placed  400000.0  \n",
       "211   Sci&Tech     No     74.0        Mkt&Fin  53.62      Placed  275000.0  \n",
       "212  Comm&Mgmt    Yes     59.0        Mkt&Fin  69.72      Placed  295000.0  \n",
       "213  Comm&Mgmt     No     70.0         Mkt&HR  60.23      Placed  204000.0  \n",
       "214  Comm&Mgmt     No     89.0         Mkt&HR  60.22  Not Placed       NaN  \n",
       "\n",
       "[215 rows x 15 columns]"
      ]
     },
     "execution_count": 5,
     "metadata": {},
     "output_type": "execute_result"
    }
   ],
   "source": [
    "df"
   ]
  },
  {
   "cell_type": "code",
   "execution_count": 6,
   "id": "1149a6e2",
   "metadata": {},
   "outputs": [
    {
     "data": {
      "text/plain": [
       "Index(['sl_no', 'gender', 'ssc_p', 'ssc_b', 'hsc_p', 'hsc_b', 'hsc_s',\n",
       "       'degree_p', 'degree_t', 'workex', 'etest_p', 'specialisation', 'mba_p',\n",
       "       'status', 'salary'],\n",
       "      dtype='object')"
      ]
     },
     "execution_count": 6,
     "metadata": {},
     "output_type": "execute_result"
    }
   ],
   "source": [
    "df.columns"
   ]
  },
  {
   "cell_type": "code",
   "execution_count": 7,
   "id": "256e5006",
   "metadata": {},
   "outputs": [
    {
     "name": "stdout",
     "output_type": "stream",
     "text": [
      "<class 'pandas.core.frame.DataFrame'>\n",
      "RangeIndex: 215 entries, 0 to 214\n",
      "Data columns (total 15 columns):\n",
      " #   Column          Non-Null Count  Dtype  \n",
      "---  ------          --------------  -----  \n",
      " 0   sl_no           215 non-null    int64  \n",
      " 1   gender          215 non-null    object \n",
      " 2   ssc_p           215 non-null    float64\n",
      " 3   ssc_b           215 non-null    object \n",
      " 4   hsc_p           215 non-null    float64\n",
      " 5   hsc_b           215 non-null    object \n",
      " 6   hsc_s           215 non-null    object \n",
      " 7   degree_p        215 non-null    float64\n",
      " 8   degree_t        215 non-null    object \n",
      " 9   workex          215 non-null    object \n",
      " 10  etest_p         215 non-null    float64\n",
      " 11  specialisation  215 non-null    object \n",
      " 12  mba_p           215 non-null    float64\n",
      " 13  status          215 non-null    object \n",
      " 14  salary          148 non-null    float64\n",
      "dtypes: float64(6), int64(1), object(8)\n",
      "memory usage: 25.3+ KB\n"
     ]
    }
   ],
   "source": [
    "# It gives the information about the data and its data type\n",
    "df.info()"
   ]
  },
  {
   "cell_type": "code",
   "execution_count": 8,
   "id": "e1f4757c",
   "metadata": {},
   "outputs": [
    {
     "data": {
      "text/plain": [
       "(215, 15)"
      ]
     },
     "execution_count": 8,
     "metadata": {},
     "output_type": "execute_result"
    }
   ],
   "source": [
    "# it gives the hw man rows and columns in a dataset\n",
    "df.shape"
   ]
  },
  {
   "cell_type": "markdown",
   "id": "ce5e6eae",
   "metadata": {},
   "source": [
    "# MISSING VALUES"
   ]
  },
  {
   "cell_type": "code",
   "execution_count": 9,
   "id": "004e0f7f",
   "metadata": {},
   "outputs": [],
   "source": [
    " #we have to check whether there is a missing values in the dataset if there is missing values impute them with mode \n",
    " # is for both categorical and numerical data "
   ]
  },
  {
   "cell_type": "code",
   "execution_count": 10,
   "id": "68d09c98",
   "metadata": {},
   "outputs": [
    {
     "data": {
      "text/plain": [
       "sl_no              0\n",
       "gender             0\n",
       "ssc_p              0\n",
       "ssc_b              0\n",
       "hsc_p              0\n",
       "hsc_b              0\n",
       "hsc_s              0\n",
       "degree_p           0\n",
       "degree_t           0\n",
       "workex             0\n",
       "etest_p            0\n",
       "specialisation     0\n",
       "mba_p              0\n",
       "status             0\n",
       "salary            67\n",
       "dtype: int64"
      ]
     },
     "execution_count": 10,
     "metadata": {},
     "output_type": "execute_result"
    }
   ],
   "source": [
    "# We use this \"isna function\" to find missing values inthe data otherwise called as nan values\n",
    "df.isna().sum()"
   ]
  },
  {
   "cell_type": "code",
   "execution_count": 11,
   "id": "f64e575b",
   "metadata": {},
   "outputs": [
    {
     "data": {
      "text/plain": [
       "sl_no              0.000000\n",
       "gender             0.000000\n",
       "ssc_p              0.000000\n",
       "ssc_b              0.000000\n",
       "hsc_p              0.000000\n",
       "hsc_b              0.000000\n",
       "hsc_s              0.000000\n",
       "degree_p           0.000000\n",
       "degree_t           0.000000\n",
       "workex             0.000000\n",
       "etest_p            0.000000\n",
       "specialisation     0.000000\n",
       "mba_p              0.000000\n",
       "status             0.000000\n",
       "salary            31.162791\n",
       "dtype: float64"
      ]
     },
     "execution_count": 11,
     "metadata": {},
     "output_type": "execute_result"
    }
   ],
   "source": [
    "# to find the proportion of the missing values we use this function\n",
    "df.isna().sum()/df.shape[0]*100"
   ]
  },
  {
   "cell_type": "code",
   "execution_count": 12,
   "id": "a7939c01",
   "metadata": {},
   "outputs": [
    {
     "data": {
      "text/plain": [
       "<AxesSubplot:>"
      ]
     },
     "execution_count": 12,
     "metadata": {},
     "output_type": "execute_result"
    },
    {
     "data": {
      "image/png": "[encoded data removed]",
      "text/plain": [
       "<Figure size 1800x720 with 3 Axes>"
      ]
     },
     "metadata": {
      "needs_background": "light"
     },
     "output_type": "display_data"
    }
   ],
   "source": [
    "# Checking NaN values\n",
    "msn.bar(df)"
   ]
  },
  {
   "cell_type": "raw",
   "id": "74667685",
   "metadata": {},
   "source": [
    "@ THERE IS NO MISSING VALUES IN ANY FIELD EXPECT SALARY.\n",
    "\n",
    "@ BECAUSE IN THE SALARY COLUMN WHO ARE ALL SELECTED GOT THE SALARY. REMAINING TAKE AS 0 VALUES."
   ]
  },
  {
   "cell_type": "code",
   "execution_count": 13,
   "id": "e6a37f66",
   "metadata": {},
   "outputs": [],
   "source": [
    "# filling 'NaN values' with 0\n",
    "df.fillna(value = 0, inplace =True)"
   ]
  },
  {
   "cell_type": "code",
   "execution_count": 14,
   "id": "b12a41c7",
   "metadata": {},
   "outputs": [
    {
     "data": {
      "text/plain": [
       "sl_no             0\n",
       "gender            0\n",
       "ssc_p             0\n",
       "ssc_b             0\n",
       "hsc_p             0\n",
       "hsc_b             0\n",
       "hsc_s             0\n",
       "degree_p          0\n",
       "degree_t          0\n",
       "workex            0\n",
       "etest_p           0\n",
       "specialisation    0\n",
       "mba_p             0\n",
       "status            0\n",
       "salary            0\n",
       "dtype: int64"
      ]
     },
     "execution_count": 14,
     "metadata": {},
     "output_type": "execute_result"
    }
   ],
   "source": [
    "# after replace checking nan values\n",
    "df.isna().sum()"
   ]
  },
  {
   "cell_type": "markdown",
   "id": "6c1724a1",
   "metadata": {},
   "source": [
    "# **SPLIT THE NUMERICAL AND CATEGORICAL COLUMNS**"
   ]
  },
  {
   "cell_type": "code",
   "execution_count": 15,
   "id": "de844c0c",
   "metadata": {},
   "outputs": [],
   "source": [
    "# we have to first find the what are the categorical and numerical as per the dataset \n",
    "num = df.select_dtypes(exclude = 'object')\n",
    "cat = df.select_dtypes(include= 'object')"
   ]
  },
  {
   "cell_type": "code",
   "execution_count": 16,
   "id": "9e1a23f6",
   "metadata": {},
   "outputs": [
    {
     "data": {
      "text/html": [
       "<div>\n",
       "<style scoped>\n",
       "    .dataframe tbody tr th:only-of-type {\n",
       "        vertical-align: middle;\n",
       "    }\n",
       "\n",
       "    .dataframe tbody tr th {\n",
       "        vertical-align: top;\n",
       "    }\n",
       "\n",
       "    .dataframe thead th {\n",
       "        text-align: right;\n",
       "    }\n",
       "</style>\n",
       "<table border=\"1\" class=\"dataframe\">\n",
       "  <thead>\n",
       "    <tr style=\"text-align: right;\">\n",
       "      <th></th>\n",
       "      <th>sl_no</th>\n",
       "      <th>ssc_p</th>\n",
       "      <th>hsc_p</th>\n",
       "      <th>degree_p</th>\n",
       "      <th>etest_p</th>\n",
       "      <th>mba_p</th>\n",
       "      <th>salary</th>\n",
       "    </tr>\n",
       "  </thead>\n",
       "  <tbody>\n",
       "    <tr>\n",
       "      <th>0</th>\n",
       "      <td>1</td>\n",
       "      <td>67.00</td>\n",
       "      <td>91.00</td>\n",
       "      <td>58.00</td>\n",
       "      <td>55.0</td>\n",
       "      <td>58.80</td>\n",
       "      <td>270000.0</td>\n",
       "    </tr>\n",
       "    <tr>\n",
       "      <th>1</th>\n",
       "      <td>2</td>\n",
       "      <td>79.33</td>\n",
       "      <td>78.33</td>\n",
       "      <td>77.48</td>\n",
       "      <td>86.5</td>\n",
       "      <td>66.28</td>\n",
       "      <td>200000.0</td>\n",
       "    </tr>\n",
       "    <tr>\n",
       "      <th>2</th>\n",
       "      <td>3</td>\n",
       "      <td>65.00</td>\n",
       "      <td>68.00</td>\n",
       "      <td>64.00</td>\n",
       "      <td>75.0</td>\n",
       "      <td>57.80</td>\n",
       "      <td>250000.0</td>\n",
       "    </tr>\n",
       "    <tr>\n",
       "      <th>3</th>\n",
       "      <td>4</td>\n",
       "      <td>56.00</td>\n",
       "      <td>52.00</td>\n",
       "      <td>52.00</td>\n",
       "      <td>66.0</td>\n",
       "      <td>59.43</td>\n",
       "      <td>0.0</td>\n",
       "    </tr>\n",
       "    <tr>\n",
       "      <th>4</th>\n",
       "      <td>5</td>\n",
       "      <td>85.80</td>\n",
       "      <td>73.60</td>\n",
       "      <td>73.30</td>\n",
       "      <td>96.8</td>\n",
       "      <td>55.50</td>\n",
       "      <td>425000.0</td>\n",
       "    </tr>\n",
       "    <tr>\n",
       "      <th>...</th>\n",
       "      <td>...</td>\n",
       "      <td>...</td>\n",
       "      <td>...</td>\n",
       "      <td>...</td>\n",
       "      <td>...</td>\n",
       "      <td>...</td>\n",
       "      <td>...</td>\n",
       "    </tr>\n",
       "    <tr>\n",
       "      <th>210</th>\n",
       "      <td>211</td>\n",
       "      <td>80.60</td>\n",
       "      <td>82.00</td>\n",
       "      <td>77.60</td>\n",
       "      <td>91.0</td>\n",
       "      <td>74.49</td>\n",
       "      <td>400000.0</td>\n",
       "    </tr>\n",
       "    <tr>\n",
       "      <th>211</th>\n",
       "      <td>212</td>\n",
       "      <td>58.00</td>\n",
       "      <td>60.00</td>\n",
       "      <td>72.00</td>\n",
       "      <td>74.0</td>\n",
       "      <td>53.62</td>\n",
       "      <td>275000.0</td>\n",
       "    </tr>\n",
       "    <tr>\n",
       "      <th>212</th>\n",
       "      <td>213</td>\n",
       "      <td>67.00</td>\n",
       "      <td>67.00</td>\n",
       "      <td>73.00</td>\n",
       "      <td>59.0</td>\n",
       "      <td>69.72</td>\n",
       "      <td>295000.0</td>\n",
       "    </tr>\n",
       "    <tr>\n",
       "      <th>213</th>\n",
       "      <td>214</td>\n",
       "      <td>74.00</td>\n",
       "      <td>66.00</td>\n",
       "      <td>58.00</td>\n",
       "      <td>70.0</td>\n",
       "      <td>60.23</td>\n",
       "      <td>204000.0</td>\n",
       "    </tr>\n",
       "    <tr>\n",
       "      <th>214</th>\n",
       "      <td>215</td>\n",
       "      <td>62.00</td>\n",
       "      <td>58.00</td>\n",
       "      <td>53.00</td>\n",
       "      <td>89.0</td>\n",
       "      <td>60.22</td>\n",
       "      <td>0.0</td>\n",
       "    </tr>\n",
       "  </tbody>\n",
       "</table>\n",
       "<p>215 rows × 7 columns</p>\n",
       "</div>"
      ],
      "text/plain": [
       "     sl_no  ssc_p  hsc_p  degree_p  etest_p  mba_p    salary\n",
       "0        1  67.00  91.00     58.00     55.0  58.80  270000.0\n",
       "1        2  79.33  78.33     77.48     86.5  66.28  200000.0\n",
       "2        3  65.00  68.00     64.00     75.0  57.80  250000.0\n",
       "3        4  56.00  52.00     52.00     66.0  59.43       0.0\n",
       "4        5  85.80  73.60     73.30     96.8  55.50  425000.0\n",
       "..     ...    ...    ...       ...      ...    ...       ...\n",
       "210    211  80.60  82.00     77.60     91.0  74.49  400000.0\n",
       "211    212  58.00  60.00     72.00     74.0  53.62  275000.0\n",
       "212    213  67.00  67.00     73.00     59.0  69.72  295000.0\n",
       "213    214  74.00  66.00     58.00     70.0  60.23  204000.0\n",
       "214    215  62.00  58.00     53.00     89.0  60.22       0.0\n",
       "\n",
       "[215 rows x 7 columns]"
      ]
     },
     "execution_count": 16,
     "metadata": {},
     "output_type": "execute_result"
    }
   ],
   "source": [
    "num"
   ]
  },
  {
   "cell_type": "code",
   "execution_count": 17,
   "id": "6419d196",
   "metadata": {},
   "outputs": [
    {
     "data": {
      "text/html": [
       "<style type=\"text/css\">\n",
       "#T_8b863_row0_col0, #T_8b863_row0_col1, #T_8b863_row0_col2, #T_8b863_row0_col3, #T_8b863_row0_col4, #T_8b863_row0_col5, #T_8b863_row0_col6, #T_8b863_row1_col0, #T_8b863_row1_col1, #T_8b863_row1_col2, #T_8b863_row1_col3, #T_8b863_row1_col4, #T_8b863_row1_col5, #T_8b863_row2_col0, #T_8b863_row2_col1, #T_8b863_row2_col2, #T_8b863_row2_col3, #T_8b863_row2_col4, #T_8b863_row2_col5, #T_8b863_row3_col0, #T_8b863_row3_col1, #T_8b863_row3_col2, #T_8b863_row3_col3, #T_8b863_row3_col4, #T_8b863_row3_col5, #T_8b863_row3_col6, #T_8b863_row4_col0, #T_8b863_row4_col1, #T_8b863_row4_col2, #T_8b863_row4_col3, #T_8b863_row4_col4, #T_8b863_row4_col5, #T_8b863_row4_col6, #T_8b863_row5_col0, #T_8b863_row5_col1, #T_8b863_row5_col2, #T_8b863_row5_col3, #T_8b863_row5_col4, #T_8b863_row5_col5, #T_8b863_row6_col0, #T_8b863_row6_col1, #T_8b863_row6_col2, #T_8b863_row6_col3, #T_8b863_row6_col4, #T_8b863_row6_col5, #T_8b863_row7_col0, #T_8b863_row7_col1, #T_8b863_row7_col2, #T_8b863_row7_col3, #T_8b863_row7_col4, #T_8b863_row7_col5 {\n",
       "  background-color: #ee82ee;\n",
       "  color: #f1f1f1;\n",
       "}\n",
       "#T_8b863_row1_col6 {\n",
       "  background-color: #f266bc;\n",
       "  color: #f1f1f1;\n",
       "}\n",
       "#T_8b863_row2_col6 {\n",
       "  background-color: #f16dc7;\n",
       "  color: #f1f1f1;\n",
       "}\n",
       "#T_8b863_row5_col6 {\n",
       "  background-color: #f261b1;\n",
       "  color: #f1f1f1;\n",
       "}\n",
       "#T_8b863_row6_col6 {\n",
       "  background-color: #f35ba7;\n",
       "  color: #f1f1f1;\n",
       "}\n",
       "#T_8b863_row7_col6 {\n",
       "  background-color: #ff0000;\n",
       "  color: #f1f1f1;\n",
       "}\n",
       "</style>\n",
       "<table id=\"T_8b863\">\n",
       "  <thead>\n",
       "    <tr>\n",
       "      <th class=\"blank level0\" >&nbsp;</th>\n",
       "      <th id=\"T_8b863_level0_col0\" class=\"col_heading level0 col0\" >sl_no</th>\n",
       "      <th id=\"T_8b863_level0_col1\" class=\"col_heading level0 col1\" >ssc_p</th>\n",
       "      <th id=\"T_8b863_level0_col2\" class=\"col_heading level0 col2\" >hsc_p</th>\n",
       "      <th id=\"T_8b863_level0_col3\" class=\"col_heading level0 col3\" >degree_p</th>\n",
       "      <th id=\"T_8b863_level0_col4\" class=\"col_heading level0 col4\" >etest_p</th>\n",
       "      <th id=\"T_8b863_level0_col5\" class=\"col_heading level0 col5\" >mba_p</th>\n",
       "      <th id=\"T_8b863_level0_col6\" class=\"col_heading level0 col6\" >salary</th>\n",
       "    </tr>\n",
       "  </thead>\n",
       "  <tbody>\n",
       "    <tr>\n",
       "      <th id=\"T_8b863_level0_row0\" class=\"row_heading level0 row0\" >count</th>\n",
       "      <td id=\"T_8b863_row0_col0\" class=\"data row0 col0\" >215.000000</td>\n",
       "      <td id=\"T_8b863_row0_col1\" class=\"data row0 col1\" >215.000000</td>\n",
       "      <td id=\"T_8b863_row0_col2\" class=\"data row0 col2\" >215.000000</td>\n",
       "      <td id=\"T_8b863_row0_col3\" class=\"data row0 col3\" >215.000000</td>\n",
       "      <td id=\"T_8b863_row0_col4\" class=\"data row0 col4\" >215.000000</td>\n",
       "      <td id=\"T_8b863_row0_col5\" class=\"data row0 col5\" >215.000000</td>\n",
       "      <td id=\"T_8b863_row0_col6\" class=\"data row0 col6\" >215.000000</td>\n",
       "    </tr>\n",
       "    <tr>\n",
       "      <th id=\"T_8b863_level0_row1\" class=\"row_heading level0 row1\" >mean</th>\n",
       "      <td id=\"T_8b863_row1_col0\" class=\"data row1 col0\" >108.000000</td>\n",
       "      <td id=\"T_8b863_row1_col1\" class=\"data row1 col1\" >67.303395</td>\n",
       "      <td id=\"T_8b863_row1_col2\" class=\"data row1 col2\" >66.333163</td>\n",
       "      <td id=\"T_8b863_row1_col3\" class=\"data row1 col3\" >66.370186</td>\n",
       "      <td id=\"T_8b863_row1_col4\" class=\"data row1 col4\" >72.100558</td>\n",
       "      <td id=\"T_8b863_row1_col5\" class=\"data row1 col5\" >62.278186</td>\n",
       "      <td id=\"T_8b863_row1_col6\" class=\"data row1 col6\" >198702.325581</td>\n",
       "    </tr>\n",
       "    <tr>\n",
       "      <th id=\"T_8b863_level0_row2\" class=\"row_heading level0 row2\" >std</th>\n",
       "      <td id=\"T_8b863_row2_col0\" class=\"data row2 col0\" >62.209324</td>\n",
       "      <td id=\"T_8b863_row2_col1\" class=\"data row2 col1\" >10.827205</td>\n",
       "      <td id=\"T_8b863_row2_col2\" class=\"data row2 col2\" >10.897509</td>\n",
       "      <td id=\"T_8b863_row2_col3\" class=\"data row2 col3\" >7.358743</td>\n",
       "      <td id=\"T_8b863_row2_col4\" class=\"data row2 col4\" >13.275956</td>\n",
       "      <td id=\"T_8b863_row2_col5\" class=\"data row2 col5\" >5.833385</td>\n",
       "      <td id=\"T_8b863_row2_col6\" class=\"data row2 col6\" >154780.926716</td>\n",
       "    </tr>\n",
       "    <tr>\n",
       "      <th id=\"T_8b863_level0_row3\" class=\"row_heading level0 row3\" >min</th>\n",
       "      <td id=\"T_8b863_row3_col0\" class=\"data row3 col0\" >1.000000</td>\n",
       "      <td id=\"T_8b863_row3_col1\" class=\"data row3 col1\" >40.890000</td>\n",
       "      <td id=\"T_8b863_row3_col2\" class=\"data row3 col2\" >37.000000</td>\n",
       "      <td id=\"T_8b863_row3_col3\" class=\"data row3 col3\" >50.000000</td>\n",
       "      <td id=\"T_8b863_row3_col4\" class=\"data row3 col4\" >50.000000</td>\n",
       "      <td id=\"T_8b863_row3_col5\" class=\"data row3 col5\" >51.210000</td>\n",
       "      <td id=\"T_8b863_row3_col6\" class=\"data row3 col6\" >0.000000</td>\n",
       "    </tr>\n",
       "    <tr>\n",
       "      <th id=\"T_8b863_level0_row4\" class=\"row_heading level0 row4\" >25%</th>\n",
       "      <td id=\"T_8b863_row4_col0\" class=\"data row4 col0\" >54.500000</td>\n",
       "      <td id=\"T_8b863_row4_col1\" class=\"data row4 col1\" >60.600000</td>\n",
       "      <td id=\"T_8b863_row4_col2\" class=\"data row4 col2\" >60.900000</td>\n",
       "      <td id=\"T_8b863_row4_col3\" class=\"data row4 col3\" >61.000000</td>\n",
       "      <td id=\"T_8b863_row4_col4\" class=\"data row4 col4\" >60.000000</td>\n",
       "      <td id=\"T_8b863_row4_col5\" class=\"data row4 col5\" >57.945000</td>\n",
       "      <td id=\"T_8b863_row4_col6\" class=\"data row4 col6\" >0.000000</td>\n",
       "    </tr>\n",
       "    <tr>\n",
       "      <th id=\"T_8b863_level0_row5\" class=\"row_heading level0 row5\" >50%</th>\n",
       "      <td id=\"T_8b863_row5_col0\" class=\"data row5 col0\" >108.000000</td>\n",
       "      <td id=\"T_8b863_row5_col1\" class=\"data row5 col1\" >67.000000</td>\n",
       "      <td id=\"T_8b863_row5_col2\" class=\"data row5 col2\" >65.000000</td>\n",
       "      <td id=\"T_8b863_row5_col3\" class=\"data row5 col3\" >66.000000</td>\n",
       "      <td id=\"T_8b863_row5_col4\" class=\"data row5 col4\" >71.000000</td>\n",
       "      <td id=\"T_8b863_row5_col5\" class=\"data row5 col5\" >62.000000</td>\n",
       "      <td id=\"T_8b863_row5_col6\" class=\"data row5 col6\" >240000.000000</td>\n",
       "    </tr>\n",
       "    <tr>\n",
       "      <th id=\"T_8b863_level0_row6\" class=\"row_heading level0 row6\" >75%</th>\n",
       "      <td id=\"T_8b863_row6_col0\" class=\"data row6 col0\" >161.500000</td>\n",
       "      <td id=\"T_8b863_row6_col1\" class=\"data row6 col1\" >75.700000</td>\n",
       "      <td id=\"T_8b863_row6_col2\" class=\"data row6 col2\" >73.000000</td>\n",
       "      <td id=\"T_8b863_row6_col3\" class=\"data row6 col3\" >72.000000</td>\n",
       "      <td id=\"T_8b863_row6_col4\" class=\"data row6 col4\" >83.500000</td>\n",
       "      <td id=\"T_8b863_row6_col5\" class=\"data row6 col5\" >66.255000</td>\n",
       "      <td id=\"T_8b863_row6_col6\" class=\"data row6 col6\" >282500.000000</td>\n",
       "    </tr>\n",
       "    <tr>\n",
       "      <th id=\"T_8b863_level0_row7\" class=\"row_heading level0 row7\" >max</th>\n",
       "      <td id=\"T_8b863_row7_col0\" class=\"data row7 col0\" >215.000000</td>\n",
       "      <td id=\"T_8b863_row7_col1\" class=\"data row7 col1\" >89.400000</td>\n",
       "      <td id=\"T_8b863_row7_col2\" class=\"data row7 col2\" >97.700000</td>\n",
       "      <td id=\"T_8b863_row7_col3\" class=\"data row7 col3\" >91.000000</td>\n",
       "      <td id=\"T_8b863_row7_col4\" class=\"data row7 col4\" >98.000000</td>\n",
       "      <td id=\"T_8b863_row7_col5\" class=\"data row7 col5\" >77.890000</td>\n",
       "      <td id=\"T_8b863_row7_col6\" class=\"data row7 col6\" >940000.000000</td>\n",
       "    </tr>\n",
       "  </tbody>\n",
       "</table>\n"
      ],
      "text/plain": [
       "<pandas.io.formats.style.Styler at 0x2e1a2784910>"
      ]
     },
     "execution_count": 17,
     "metadata": {},
     "output_type": "execute_result"
    }
   ],
   "source": [
    "cm = sns.color_palette(\"blend:violet,red\", as_cmap=True)\n",
    "df.describe().style.background_gradient(cmap = cm,axis = None)"
   ]
  },
  {
   "cell_type": "raw",
   "id": "f77dcc0b",
   "metadata": {},
   "source": [
    "Dropping sl_no column since it acts as an index. "
   ]
  },
  {
   "cell_type": "code",
   "execution_count": 18,
   "id": "2396744d",
   "metadata": {},
   "outputs": [],
   "source": [
    "df.drop(columns = ['sl_no'],inplace = True)"
   ]
  },
  {
   "cell_type": "code",
   "execution_count": 19,
   "id": "bdad5e9e",
   "metadata": {},
   "outputs": [
    {
     "data": {
      "text/plain": [
       "Index(['gender', 'ssc_p', 'ssc_b', 'hsc_p', 'hsc_b', 'hsc_s', 'degree_p',\n",
       "       'degree_t', 'workex', 'etest_p', 'specialisation', 'mba_p', 'status',\n",
       "       'salary'],\n",
       "      dtype='object')"
      ]
     },
     "execution_count": 19,
     "metadata": {},
     "output_type": "execute_result"
    }
   ],
   "source": [
    "df.columns"
   ]
  },
  {
   "cell_type": "markdown",
   "id": "c05ce5a5",
   "metadata": {},
   "source": [
    "# TARGET VARIABLES"
   ]
  },
  {
   "cell_type": "code",
   "execution_count": 20,
   "id": "3474854f",
   "metadata": {},
   "outputs": [
    {
     "name": "stdout",
     "output_type": "stream",
     "text": [
      "unique_values: \n",
      " ['Placed' 'Not Placed'] \n",
      " value_counts: \n",
      " Placed        148\n",
      "Not Placed     67\n",
      "Name: status, dtype: int64 \n",
      " proportion of value: \n",
      " Placed        68.837209\n",
      "Not Placed    31.162791\n",
      "Name: status, dtype: float64 \n",
      " count of nan values: 0\n"
     ]
    }
   ],
   "source": [
    "feature_analysis('status')"
   ]
  },
  {
   "cell_type": "code",
   "execution_count": 21,
   "id": "1866c741",
   "metadata": {},
   "outputs": [
    {
     "name": "stdout",
     "output_type": "stream",
     "text": [
      "<class 'pandas.core.series.Series'>\n",
      "RangeIndex: 215 entries, 0 to 214\n",
      "Series name: gender\n",
      "Non-Null Count  Dtype \n",
      "--------------  ----- \n",
      "215 non-null    object\n",
      "dtypes: object(1)\n",
      "memory usage: 1.8+ KB\n"
     ]
    }
   ],
   "source": [
    "cat_dtype_change('gender')"
   ]
  },
  {
   "cell_type": "code",
   "execution_count": 22,
   "id": "751bcec7",
   "metadata": {},
   "outputs": [
    {
     "name": "stdout",
     "output_type": "stream",
     "text": [
      "the variable with more frequency is Placed\n"
     ]
    },
    {
     "data": {
      "image/png": "[encoded data removed]",
      "text/plain": [
       "<Figure size 1080x360 with 2 Axes>"
      ]
     },
     "metadata": {
      "needs_background": "light"
     },
     "output_type": "display_data"
    }
   ],
   "source": [
    "count_pie('status')"
   ]
  },
  {
   "cell_type": "raw",
   "id": "de009fd7",
   "metadata": {},
   "source": [
    "MOST OF THEM GET PLACEMENTS IN THE INTERVIEW."
   ]
  },
  {
   "cell_type": "markdown",
   "id": "bf8a391e",
   "metadata": {},
   "source": [
    "# ***EDA***"
   ]
  },
  {
   "cell_type": "markdown",
   "id": "bfa1f302",
   "metadata": {},
   "source": [
    "# GENDER"
   ]
  },
  {
   "cell_type": "code",
   "execution_count": 23,
   "id": "55d3714f",
   "metadata": {},
   "outputs": [
    {
     "name": "stdout",
     "output_type": "stream",
     "text": [
      "unique_values: \n",
      " ['M' 'F'] \n",
      " value_counts: \n",
      " M    139\n",
      "F     76\n",
      "Name: gender, dtype: int64 \n",
      " proportion of value: \n",
      " M    64.651163\n",
      "F    35.348837\n",
      "Name: gender, dtype: float64 \n",
      " count of nan values: 0\n"
     ]
    }
   ],
   "source": [
    "feature_analysis('gender')"
   ]
  },
  {
   "cell_type": "code",
   "execution_count": 24,
   "id": "bbb68908",
   "metadata": {},
   "outputs": [
    {
     "name": "stdout",
     "output_type": "stream",
     "text": [
      "<class 'pandas.core.series.Series'>\n",
      "RangeIndex: 215 entries, 0 to 214\n",
      "Series name: gender\n",
      "Non-Null Count  Dtype \n",
      "--------------  ----- \n",
      "215 non-null    object\n",
      "dtypes: object(1)\n",
      "memory usage: 1.8+ KB\n"
     ]
    }
   ],
   "source": [
    "cat_dtype_change('gender')"
   ]
  },
  {
   "cell_type": "code",
   "execution_count": 25,
   "id": "788472cc",
   "metadata": {},
   "outputs": [
    {
     "name": "stdout",
     "output_type": "stream",
     "text": [
      "the variable with more frequency is M\n"
     ]
    },
    {
     "data": {
      "image/png": "[encoded data removed]",
      "text/plain": [
       "<Figure size 1080x360 with 2 Axes>"
      ]
     },
     "metadata": {
      "needs_background": "light"
     },
     "output_type": "display_data"
    }
   ],
   "source": [
    "count_pie('gender')"
   ]
  },
  {
   "cell_type": "code",
   "execution_count": 26,
   "id": "de0bf1d1",
   "metadata": {},
   "outputs": [
    {
     "data": {
      "text/plain": [
       "gender  status    \n",
       "M       Placed        46.511628\n",
       "F       Placed        22.325581\n",
       "M       Not Placed    18.139535\n",
       "F       Not Placed    13.023256\n",
       "dtype: float64"
      ]
     },
     "execution_count": 26,
     "metadata": {},
     "output_type": "execute_result"
    }
   ],
   "source": [
    "df1 = df.loc[:,['gender','status']]\n",
    "df1.value_counts(normalize = True)*100"
   ]
  },
  {
   "cell_type": "code",
   "execution_count": 27,
   "id": "70a0b259",
   "metadata": {},
   "outputs": [
    {
     "data": {
      "image/png": "[encoded data removed]",
      "text/plain": [
       "<Figure size 1080x720 with 1 Axes>"
      ]
     },
     "metadata": {
      "needs_background": "light"
     },
     "output_type": "display_data"
    }
   ],
   "source": [
    "comparison_plot('gender', 'status')"
   ]
  },
  {
   "cell_type": "code",
   "execution_count": null,
   "id": "852a7617",
   "metadata": {},
   "outputs": [],
   "source": []
  },
  {
   "cell_type": "raw",
   "id": "08574cbd",
   "metadata": {},
   "source": [
    "males are more proportion than females.\n",
    "In case of placements males are get more opportunity than females.\n",
    "M       Placed        46.511628 %\n",
    "F       Placed        22.325581 %\n"
   ]
  },
  {
   "cell_type": "code",
   "execution_count": null,
   "id": "f3065b13",
   "metadata": {},
   "outputs": [],
   "source": []
  },
  {
   "cell_type": "markdown",
   "id": "f1b341ee",
   "metadata": {},
   "source": [
    "# SSC BOARD AND SSC PERCENTAGE"
   ]
  },
  {
   "cell_type": "code",
   "execution_count": 28,
   "id": "c100768e",
   "metadata": {},
   "outputs": [
    {
     "data": {
      "text/html": [
       "<div>\n",
       "<style scoped>\n",
       "    .dataframe tbody tr th:only-of-type {\n",
       "        vertical-align: middle;\n",
       "    }\n",
       "\n",
       "    .dataframe tbody tr th {\n",
       "        vertical-align: top;\n",
       "    }\n",
       "\n",
       "    .dataframe thead th {\n",
       "        text-align: right;\n",
       "    }\n",
       "</style>\n",
       "<table border=\"1\" class=\"dataframe\">\n",
       "  <thead>\n",
       "    <tr style=\"text-align: right;\">\n",
       "      <th></th>\n",
       "      <th>gender</th>\n",
       "      <th>ssc_p</th>\n",
       "      <th>ssc_b</th>\n",
       "      <th>hsc_p</th>\n",
       "      <th>hsc_b</th>\n",
       "      <th>hsc_s</th>\n",
       "      <th>degree_p</th>\n",
       "      <th>degree_t</th>\n",
       "      <th>workex</th>\n",
       "      <th>etest_p</th>\n",
       "      <th>specialisation</th>\n",
       "      <th>mba_p</th>\n",
       "      <th>status</th>\n",
       "      <th>salary</th>\n",
       "    </tr>\n",
       "  </thead>\n",
       "  <tbody>\n",
       "    <tr>\n",
       "      <th>0</th>\n",
       "      <td>M</td>\n",
       "      <td>67.00</td>\n",
       "      <td>Others</td>\n",
       "      <td>91.00</td>\n",
       "      <td>Others</td>\n",
       "      <td>Commerce</td>\n",
       "      <td>58.00</td>\n",
       "      <td>Sci&amp;Tech</td>\n",
       "      <td>No</td>\n",
       "      <td>55.0</td>\n",
       "      <td>Mkt&amp;HR</td>\n",
       "      <td>58.80</td>\n",
       "      <td>Placed</td>\n",
       "      <td>270000.0</td>\n",
       "    </tr>\n",
       "    <tr>\n",
       "      <th>1</th>\n",
       "      <td>M</td>\n",
       "      <td>79.33</td>\n",
       "      <td>Central</td>\n",
       "      <td>78.33</td>\n",
       "      <td>Others</td>\n",
       "      <td>Science</td>\n",
       "      <td>77.48</td>\n",
       "      <td>Sci&amp;Tech</td>\n",
       "      <td>Yes</td>\n",
       "      <td>86.5</td>\n",
       "      <td>Mkt&amp;Fin</td>\n",
       "      <td>66.28</td>\n",
       "      <td>Placed</td>\n",
       "      <td>200000.0</td>\n",
       "    </tr>\n",
       "    <tr>\n",
       "      <th>2</th>\n",
       "      <td>M</td>\n",
       "      <td>65.00</td>\n",
       "      <td>Central</td>\n",
       "      <td>68.00</td>\n",
       "      <td>Central</td>\n",
       "      <td>Arts</td>\n",
       "      <td>64.00</td>\n",
       "      <td>Comm&amp;Mgmt</td>\n",
       "      <td>No</td>\n",
       "      <td>75.0</td>\n",
       "      <td>Mkt&amp;Fin</td>\n",
       "      <td>57.80</td>\n",
       "      <td>Placed</td>\n",
       "      <td>250000.0</td>\n",
       "    </tr>\n",
       "    <tr>\n",
       "      <th>3</th>\n",
       "      <td>M</td>\n",
       "      <td>56.00</td>\n",
       "      <td>Central</td>\n",
       "      <td>52.00</td>\n",
       "      <td>Central</td>\n",
       "      <td>Science</td>\n",
       "      <td>52.00</td>\n",
       "      <td>Sci&amp;Tech</td>\n",
       "      <td>No</td>\n",
       "      <td>66.0</td>\n",
       "      <td>Mkt&amp;HR</td>\n",
       "      <td>59.43</td>\n",
       "      <td>Not Placed</td>\n",
       "      <td>0.0</td>\n",
       "    </tr>\n",
       "    <tr>\n",
       "      <th>4</th>\n",
       "      <td>M</td>\n",
       "      <td>85.80</td>\n",
       "      <td>Central</td>\n",
       "      <td>73.60</td>\n",
       "      <td>Central</td>\n",
       "      <td>Commerce</td>\n",
       "      <td>73.30</td>\n",
       "      <td>Comm&amp;Mgmt</td>\n",
       "      <td>No</td>\n",
       "      <td>96.8</td>\n",
       "      <td>Mkt&amp;Fin</td>\n",
       "      <td>55.50</td>\n",
       "      <td>Placed</td>\n",
       "      <td>425000.0</td>\n",
       "    </tr>\n",
       "    <tr>\n",
       "      <th>...</th>\n",
       "      <td>...</td>\n",
       "      <td>...</td>\n",
       "      <td>...</td>\n",
       "      <td>...</td>\n",
       "      <td>...</td>\n",
       "      <td>...</td>\n",
       "      <td>...</td>\n",
       "      <td>...</td>\n",
       "      <td>...</td>\n",
       "      <td>...</td>\n",
       "      <td>...</td>\n",
       "      <td>...</td>\n",
       "      <td>...</td>\n",
       "      <td>...</td>\n",
       "    </tr>\n",
       "    <tr>\n",
       "      <th>210</th>\n",
       "      <td>M</td>\n",
       "      <td>80.60</td>\n",
       "      <td>Others</td>\n",
       "      <td>82.00</td>\n",
       "      <td>Others</td>\n",
       "      <td>Commerce</td>\n",
       "      <td>77.60</td>\n",
       "      <td>Comm&amp;Mgmt</td>\n",
       "      <td>No</td>\n",
       "      <td>91.0</td>\n",
       "      <td>Mkt&amp;Fin</td>\n",
       "      <td>74.49</td>\n",
       "      <td>Placed</td>\n",
       "      <td>400000.0</td>\n",
       "    </tr>\n",
       "    <tr>\n",
       "      <th>211</th>\n",
       "      <td>M</td>\n",
       "      <td>58.00</td>\n",
       "      <td>Others</td>\n",
       "      <td>60.00</td>\n",
       "      <td>Others</td>\n",
       "      <td>Science</td>\n",
       "      <td>72.00</td>\n",
       "      <td>Sci&amp;Tech</td>\n",
       "      <td>No</td>\n",
       "      <td>74.0</td>\n",
       "      <td>Mkt&amp;Fin</td>\n",
       "      <td>53.62</td>\n",
       "      <td>Placed</td>\n",
       "      <td>275000.0</td>\n",
       "    </tr>\n",
       "    <tr>\n",
       "      <th>212</th>\n",
       "      <td>M</td>\n",
       "      <td>67.00</td>\n",
       "      <td>Others</td>\n",
       "      <td>67.00</td>\n",
       "      <td>Others</td>\n",
       "      <td>Commerce</td>\n",
       "      <td>73.00</td>\n",
       "      <td>Comm&amp;Mgmt</td>\n",
       "      <td>Yes</td>\n",
       "      <td>59.0</td>\n",
       "      <td>Mkt&amp;Fin</td>\n",
       "      <td>69.72</td>\n",
       "      <td>Placed</td>\n",
       "      <td>295000.0</td>\n",
       "    </tr>\n",
       "    <tr>\n",
       "      <th>213</th>\n",
       "      <td>F</td>\n",
       "      <td>74.00</td>\n",
       "      <td>Others</td>\n",
       "      <td>66.00</td>\n",
       "      <td>Others</td>\n",
       "      <td>Commerce</td>\n",
       "      <td>58.00</td>\n",
       "      <td>Comm&amp;Mgmt</td>\n",
       "      <td>No</td>\n",
       "      <td>70.0</td>\n",
       "      <td>Mkt&amp;HR</td>\n",
       "      <td>60.23</td>\n",
       "      <td>Placed</td>\n",
       "      <td>204000.0</td>\n",
       "    </tr>\n",
       "    <tr>\n",
       "      <th>214</th>\n",
       "      <td>M</td>\n",
       "      <td>62.00</td>\n",
       "      <td>Central</td>\n",
       "      <td>58.00</td>\n",
       "      <td>Others</td>\n",
       "      <td>Science</td>\n",
       "      <td>53.00</td>\n",
       "      <td>Comm&amp;Mgmt</td>\n",
       "      <td>No</td>\n",
       "      <td>89.0</td>\n",
       "      <td>Mkt&amp;HR</td>\n",
       "      <td>60.22</td>\n",
       "      <td>Not Placed</td>\n",
       "      <td>0.0</td>\n",
       "    </tr>\n",
       "  </tbody>\n",
       "</table>\n",
       "<p>215 rows × 14 columns</p>\n",
       "</div>"
      ],
      "text/plain": [
       "    gender  ssc_p    ssc_b  hsc_p    hsc_b     hsc_s  degree_p   degree_t  \\\n",
       "0        M  67.00   Others  91.00   Others  Commerce     58.00   Sci&Tech   \n",
       "1        M  79.33  Central  78.33   Others   Science     77.48   Sci&Tech   \n",
       "2        M  65.00  Central  68.00  Central      Arts     64.00  Comm&Mgmt   \n",
       "3        M  56.00  Central  52.00  Central   Science     52.00   Sci&Tech   \n",
       "4        M  85.80  Central  73.60  Central  Commerce     73.30  Comm&Mgmt   \n",
       "..     ...    ...      ...    ...      ...       ...       ...        ...   \n",
       "210      M  80.60   Others  82.00   Others  Commerce     77.60  Comm&Mgmt   \n",
       "211      M  58.00   Others  60.00   Others   Science     72.00   Sci&Tech   \n",
       "212      M  67.00   Others  67.00   Others  Commerce     73.00  Comm&Mgmt   \n",
       "213      F  74.00   Others  66.00   Others  Commerce     58.00  Comm&Mgmt   \n",
       "214      M  62.00  Central  58.00   Others   Science     53.00  Comm&Mgmt   \n",
       "\n",
       "    workex  etest_p specialisation  mba_p      status    salary  \n",
       "0       No     55.0         Mkt&HR  58.80      Placed  270000.0  \n",
       "1      Yes     86.5        Mkt&Fin  66.28      Placed  200000.0  \n",
       "2       No     75.0        Mkt&Fin  57.80      Placed  250000.0  \n",
       "3       No     66.0         Mkt&HR  59.43  Not Placed       0.0  \n",
       "4       No     96.8        Mkt&Fin  55.50      Placed  425000.0  \n",
       "..     ...      ...            ...    ...         ...       ...  \n",
       "210     No     91.0        Mkt&Fin  74.49      Placed  400000.0  \n",
       "211     No     74.0        Mkt&Fin  53.62      Placed  275000.0  \n",
       "212    Yes     59.0        Mkt&Fin  69.72      Placed  295000.0  \n",
       "213     No     70.0         Mkt&HR  60.23      Placed  204000.0  \n",
       "214     No     89.0         Mkt&HR  60.22  Not Placed       0.0  \n",
       "\n",
       "[215 rows x 14 columns]"
      ]
     },
     "execution_count": 28,
     "metadata": {},
     "output_type": "execute_result"
    }
   ],
   "source": [
    "df"
   ]
  },
  {
   "cell_type": "code",
   "execution_count": 29,
   "id": "0ad55f46",
   "metadata": {},
   "outputs": [
    {
     "name": "stdout",
     "output_type": "stream",
     "text": [
      "unique_values: \n",
      " ['Others' 'Central'] \n",
      " value_counts: \n",
      " Central    116\n",
      "Others      99\n",
      "Name: ssc_b, dtype: int64 \n",
      " proportion of value: \n",
      " Central    53.953488\n",
      "Others     46.046512\n",
      "Name: ssc_b, dtype: float64 \n",
      " count of nan values: 0\n"
     ]
    }
   ],
   "source": [
    "feature_analysis('ssc_b')"
   ]
  },
  {
   "cell_type": "code",
   "execution_count": 30,
   "id": "41a8e7a2",
   "metadata": {},
   "outputs": [
    {
     "name": "stdout",
     "output_type": "stream",
     "text": [
      "<class 'pandas.core.series.Series'>\n",
      "RangeIndex: 215 entries, 0 to 214\n",
      "Series name: ssc_b\n",
      "Non-Null Count  Dtype \n",
      "--------------  ----- \n",
      "215 non-null    object\n",
      "dtypes: object(1)\n",
      "memory usage: 1.8+ KB\n"
     ]
    }
   ],
   "source": [
    "cat_dtype_change('ssc_b')"
   ]
  },
  {
   "cell_type": "code",
   "execution_count": 31,
   "id": "b6adb06a",
   "metadata": {},
   "outputs": [
    {
     "name": "stdout",
     "output_type": "stream",
     "text": [
      "the variable with more frequency is Central\n"
     ]
    },
    {
     "data": {
      "image/png": "[encoded data removed]",
      "text/plain": [
       "<Figure size 1080x360 with 2 Axes>"
      ]
     },
     "metadata": {
      "needs_background": "light"
     },
     "output_type": "display_data"
    }
   ],
   "source": [
    "count_pie('ssc_b')"
   ]
  },
  {
   "cell_type": "code",
   "execution_count": 32,
   "id": "2d88eb3e",
   "metadata": {},
   "outputs": [
    {
     "data": {
      "text/plain": [
       "ssc_b    ssc_p\n",
       "Central  62.00    3.255814\n",
       "         65.00    3.255814\n",
       "         73.00    2.790698\n",
       "Others   67.00    2.790698\n",
       "Central  63.00    2.325581\n",
       "                    ...   \n",
       "         77.44    0.465116\n",
       "         76.70    0.465116\n",
       "         75.20    0.465116\n",
       "         74.20    0.465116\n",
       "Others   89.40    0.465116\n",
       "Length: 127, dtype: float64"
      ]
     },
     "execution_count": 32,
     "metadata": {},
     "output_type": "execute_result"
    }
   ],
   "source": [
    "df1 = df.loc[:,['ssc_b','ssc_p']]\n",
    "df1.value_counts(normalize = True)*100"
   ]
  },
  {
   "cell_type": "code",
   "execution_count": 33,
   "id": "32fccd64",
   "metadata": {},
   "outputs": [
    {
     "data": {
      "image/png": "[encoded data removed]",
      "text/plain": [
       "<Figure size 1080x720 with 1 Axes>"
      ]
     },
     "metadata": {
      "needs_background": "light"
     },
     "output_type": "display_data"
    }
   ],
   "source": [
    "comparison_plot('ssc_p','ssc_b')"
   ]
  },
  {
   "cell_type": "code",
   "execution_count": 34,
   "id": "a36cba05",
   "metadata": {},
   "outputs": [
    {
     "name": "stdout",
     "output_type": "stream",
     "text": [
      "persons get placements:\n",
      " M    67.567568\n",
      "F    32.432432\n",
      "Name: gender, dtype: float64\n",
      "\n",
      "\n",
      "persons not get placements: \n",
      " M    58.208955\n",
      "F    41.791045\n",
      "Name: gender, dtype: float64\n"
     ]
    }
   ],
   "source": [
    "status_ratio('gender')"
   ]
  },
  {
   "cell_type": "code",
   "execution_count": 35,
   "id": "7984fc6f",
   "metadata": {},
   "outputs": [
    {
     "name": "stdout",
     "output_type": "stream",
     "text": [
      "persons get placements:\n",
      " Central    52.702703\n",
      "Others     47.297297\n",
      "Name: ssc_b, dtype: float64\n",
      "\n",
      "\n",
      "persons not get placements: \n",
      " Central    56.716418\n",
      "Others     43.283582\n",
      "Name: ssc_b, dtype: float64\n"
     ]
    }
   ],
   "source": [
    "status_ratio('ssc_b')"
   ]
  },
  {
   "cell_type": "code",
   "execution_count": 36,
   "id": "1c5ba563",
   "metadata": {},
   "outputs": [
    {
     "data": {
      "image/png": "[encoded data removed]",
      "text/plain": [
       "<Figure size 1440x360 with 3 Axes>"
      ]
     },
     "metadata": {
      "needs_background": "light"
     },
     "output_type": "display_data"
    }
   ],
   "source": [
    "multi_pie_count('ssc_b','gender','status')"
   ]
  },
  {
   "cell_type": "raw",
   "id": "e45540e5",
   "metadata": {},
   "source": [
    "SSC BOARD:\n",
    "    1. In the ssc board most of them are central board.\n",
    "    2. central board students are 54% and others are 46% \n",
    "    3. In the central board most of them are males when compared to females.\n",
    "    4. In the placements central board students are get placed more than other board students.\n",
    "    5. In the column central board male students are getting more chances than others.\n",
    "    6. in case of ssc percentage central board students getting more percentage than other board students.\n",
    "    7.persons get placements:\n",
    "                  Central    52.702703\n",
    "                  Others     47.297297\n",
    "    8.persons get placements:\n",
    "                     M    67.567568\n",
    "                     F    32.432432\n",
    "                     \n",
    "    9. persons not get placements: \n",
    "             M    58.208955\n",
    "             F    41.791045\n",
    "    10. persons not get placements: \n",
    "         Central    56.716418\n",
    "         Others     43.283582"
   ]
  },
  {
   "cell_type": "code",
   "execution_count": null,
   "id": "ed4161f2",
   "metadata": {},
   "outputs": [],
   "source": []
  },
  {
   "cell_type": "markdown",
   "id": "4aa8c325",
   "metadata": {},
   "source": [
    "# HSC BOARD AND HSC PERCENTAGE"
   ]
  },
  {
   "cell_type": "code",
   "execution_count": 37,
   "id": "14ecb153",
   "metadata": {},
   "outputs": [
    {
     "name": "stdout",
     "output_type": "stream",
     "text": [
      "unique_values: \n",
      " ['Others' 'Central'] \n",
      " value_counts: \n",
      " Others     131\n",
      "Central     84\n",
      "Name: hsc_b, dtype: int64 \n",
      " proportion of value: \n",
      " Others     60.930233\n",
      "Central    39.069767\n",
      "Name: hsc_b, dtype: float64 \n",
      " count of nan values: 0\n"
     ]
    }
   ],
   "source": [
    "feature_analysis('hsc_b')"
   ]
  },
  {
   "cell_type": "code",
   "execution_count": 38,
   "id": "fe0b4537",
   "metadata": {},
   "outputs": [
    {
     "name": "stdout",
     "output_type": "stream",
     "text": [
      "<class 'pandas.core.series.Series'>\n",
      "RangeIndex: 215 entries, 0 to 214\n",
      "Series name: hsc_b\n",
      "Non-Null Count  Dtype \n",
      "--------------  ----- \n",
      "215 non-null    object\n",
      "dtypes: object(1)\n",
      "memory usage: 1.8+ KB\n"
     ]
    }
   ],
   "source": [
    "cat_dtype_change('hsc_b')"
   ]
  },
  {
   "cell_type": "code",
   "execution_count": 39,
   "id": "31287586",
   "metadata": {},
   "outputs": [
    {
     "data": {
      "image/png": "[encoded data removed]",
      "text/plain": [
       "<Figure size 1440x360 with 3 Axes>"
      ]
     },
     "metadata": {
      "needs_background": "light"
     },
     "output_type": "display_data"
    }
   ],
   "source": [
    "multi_pie_count('hsc_b', 'gender', 'status')"
   ]
  },
  {
   "cell_type": "code",
   "execution_count": 40,
   "id": "e57c9016",
   "metadata": {},
   "outputs": [
    {
     "name": "stdout",
     "output_type": "stream",
     "text": [
      "persons get placements:\n",
      " Others     61.486486\n",
      "Central    38.513514\n",
      "Name: hsc_b, dtype: float64\n",
      "\n",
      "\n",
      "persons not get placements: \n",
      " Others     59.701493\n",
      "Central    40.298507\n",
      "Name: hsc_b, dtype: float64\n"
     ]
    }
   ],
   "source": [
    "status_ratio('hsc_b')"
   ]
  },
  {
   "cell_type": "code",
   "execution_count": 41,
   "id": "8b4d238e",
   "metadata": {},
   "outputs": [
    {
     "name": "stdout",
     "output_type": "stream",
     "text": [
      "other board students:\n",
      " M    67.175573\n",
      "F    32.824427\n",
      "Name: gender, dtype: float64\n",
      "\n",
      "\n",
      "central board students: \n",
      " M    60.714286\n",
      "F    39.285714\n",
      "Name: gender, dtype: float64\n"
     ]
    }
   ],
   "source": [
    "others = df[df['hsc_b']== 'Others'].gender.value_counts(normalize= True)*100\n",
    "central = df[df['hsc_b']== 'Central'].gender.value_counts(normalize= True)*100\n",
    "\n",
    "print('other board students:' '\\n', others)\n",
    "\n",
    "print('\\n')\n",
    "\n",
    "print('central board students:','\\n', central)"
   ]
  },
  {
   "cell_type": "raw",
   "id": "bbcb5402",
   "metadata": {},
   "source": [
    "HSC BOARD:\n",
    "     1. In HSC Board most of them are from other boards.\n",
    "     2. other boards students are 60.93% and central board students are 39%.\n",
    "     3. in both central and other boards males are more than females.\n",
    "     4. In case of placements other board students are placement when compared to central board students.\n",
    "     5. persons get placements:\n",
    "             Others     61.486486 \n",
    "            Central    38.513514\n",
    "    6. persons not get placements: \n",
    "             Others     59.701493\n",
    "            Central    40.298507\n",
    "    7. In the other board students \n",
    "            M    67.175573\n",
    "            F    32.824427\n",
    "            \n",
    "    8. In the central board students\n",
    "          M    60.714286\n",
    "          F    39.285714"
   ]
  },
  {
   "cell_type": "code",
   "execution_count": null,
   "id": "0435327d",
   "metadata": {},
   "outputs": [],
   "source": []
  },
  {
   "cell_type": "markdown",
   "id": "5d7173d4",
   "metadata": {},
   "source": [
    "# HSC SUBJECTS"
   ]
  },
  {
   "cell_type": "code",
   "execution_count": 42,
   "id": "2fa8b773",
   "metadata": {},
   "outputs": [
    {
     "name": "stdout",
     "output_type": "stream",
     "text": [
      "unique_values: \n",
      " ['Commerce' 'Science' 'Arts'] \n",
      " value_counts: \n",
      " Commerce    113\n",
      "Science      91\n",
      "Arts         11\n",
      "Name: hsc_s, dtype: int64 \n",
      " proportion of value: \n",
      " Commerce    52.558140\n",
      "Science     42.325581\n",
      "Arts         5.116279\n",
      "Name: hsc_s, dtype: float64 \n",
      " count of nan values: 0\n"
     ]
    }
   ],
   "source": [
    "feature_analysis('hsc_s')"
   ]
  },
  {
   "cell_type": "code",
   "execution_count": 43,
   "id": "329539cf",
   "metadata": {},
   "outputs": [
    {
     "name": "stdout",
     "output_type": "stream",
     "text": [
      "<class 'pandas.core.series.Series'>\n",
      "RangeIndex: 215 entries, 0 to 214\n",
      "Series name: hsc_s\n",
      "Non-Null Count  Dtype \n",
      "--------------  ----- \n",
      "215 non-null    object\n",
      "dtypes: object(1)\n",
      "memory usage: 1.8+ KB\n"
     ]
    }
   ],
   "source": [
    "cat_dtype_change('hsc_s')"
   ]
  },
  {
   "cell_type": "code",
   "execution_count": 44,
   "id": "6bbaa296",
   "metadata": {},
   "outputs": [
    {
     "data": {
      "image/png": "[encoded data removed]",
      "text/plain": [
       "<Figure size 1440x360 with 3 Axes>"
      ]
     },
     "metadata": {
      "needs_background": "light"
     },
     "output_type": "display_data"
    }
   ],
   "source": [
    "multi_pie_count('hsc_s', 'gender', 'status')"
   ]
  },
  {
   "cell_type": "code",
   "execution_count": 45,
   "id": "ffb671db",
   "metadata": {},
   "outputs": [
    {
     "name": "stdout",
     "output_type": "stream",
     "text": [
      "persons get placements:\n",
      " Commerce    53.378378\n",
      "Science     42.567568\n",
      "Arts         4.054054\n",
      "Name: hsc_s, dtype: float64\n",
      "\n",
      "\n",
      "persons not get placements: \n",
      " Commerce    50.746269\n",
      "Science     41.791045\n",
      "Arts         7.462687\n",
      "Name: hsc_s, dtype: float64\n"
     ]
    }
   ],
   "source": [
    "status_ratio('hsc_s')"
   ]
  },
  {
   "cell_type": "code",
   "execution_count": 46,
   "id": "ad54fd2e",
   "metadata": {},
   "outputs": [
    {
     "name": "stdout",
     "output_type": "stream",
     "text": [
      "commerce groupstudents:\n",
      " Others     57.522124\n",
      "Central    42.477876\n",
      "Name: hsc_b, dtype: float64\n",
      "\n",
      "\n",
      "science group students: \n",
      " Others     68.131868\n",
      "Central    31.868132\n",
      "Name: hsc_b, dtype: float64\n",
      "\n",
      "\n",
      "arts group students: \n",
      " Central    63.636364\n",
      "Others     36.363636\n",
      "Name: hsc_b, dtype: float64\n"
     ]
    }
   ],
   "source": [
    "commerce = df[df['hsc_s']== 'Commerce'].hsc_b.value_counts(normalize= True)*100\n",
    "science = df[df['hsc_s']== 'Science'].hsc_b.value_counts(normalize= True)*100\n",
    "arts  = df[df['hsc_s']== 'Arts'].hsc_b.value_counts(normalize= True)*100\n",
    "print('commerce groupstudents:' '\\n', commerce)\n",
    "\n",
    "print('\\n')\n",
    "\n",
    "print('science group students:','\\n', science)\n",
    "\n",
    "print('\\n')\n",
    "\n",
    "print('arts group students:','\\n', arts)\n"
   ]
  },
  {
   "cell_type": "code",
   "execution_count": 47,
   "id": "b20eaec7",
   "metadata": {},
   "outputs": [
    {
     "data": {
      "text/plain": [
       "status      hsc_s     hsc_b    gender\n",
       "Not Placed  Arts      Central  F          1\n",
       "                               M          1\n",
       "                      Others   M          2\n",
       "                               F          1\n",
       "            Commerce  Central  F          8\n",
       "                               M          8\n",
       "                      Others   F         10\n",
       "                               M          8\n",
       "            Science   Central  M          5\n",
       "                               F          4\n",
       "                      Others   M         15\n",
       "                               F          4\n",
       "Placed      Arts      Central  F          4\n",
       "                               M          1\n",
       "                      Others   M          1\n",
       "            Commerce  Central  M         23\n",
       "                               F          9\n",
       "                      Others   M         34\n",
       "                               F         13\n",
       "            Science   Central  M         13\n",
       "                               F          7\n",
       "                      Others   M         28\n",
       "                               F         15\n",
       "Name: gender, dtype: int64"
      ]
     },
     "execution_count": 47,
     "metadata": {},
     "output_type": "execute_result"
    }
   ],
   "source": [
    "df.groupby(['status', 'hsc_s','hsc_b'])['gender'].value_counts()"
   ]
  },
  {
   "cell_type": "raw",
   "id": "d1707d38",
   "metadata": {},
   "source": [
    "HSC SUBJECTS:\n",
    "      1. THERE ARE 3 SUBJECTS ( ['Commerce' 'Science' 'Arts']).\n",
    "    2. COMMERCE SUBJECTS ARE MAJORITY OF THEM TAKEN.FOLLOWED BY SCIENCE.\n",
    "      3. IN ALL SUBJECTS MALES ARE MORE THAN FEMALES.\n",
    "    4. IN CASE OF PLACEMENTS COMMERCE GROUP OF STUDENTS GOT MORE PLACED THAN OTHER STREAM.\n",
    "    5. IN COMMERCE MALES ARE GET MORE OPPURTUNITY THAN FEMALES.\n",
    "    6. persons get placements:\n",
    "        \n",
    "        Commerce    53.378378\n",
    "        Science     42.567568\n",
    "        Arts         4.054054\n",
    "7. commerce groupstudents:\n",
    "    \n",
    "Others     57.522124\n",
    "Central    42.477876\n",
    "Name: hsc_b, \n",
    "\n",
    "\n",
    "science group students: \n",
    "    \n",
    "Others     68.131868\n",
    "Central    31.868132\n",
    "Name: hsc_b,\n",
    "\n",
    "arts group students: \n",
    "    \n",
    "Central    63.636364\n",
    "Others     36.363636\n",
    "Name: hsc_b,\n",
    "\n",
    "8.status      hsc_b    gender\n",
    "Not Placed  Central  M         14\n",
    "                     F         13\n",
    "            Others   M         25\n",
    "                     F         15\n",
    "Placed      Central  M         37\n",
    "                     F         20\n",
    "            Others   M         63\n",
    "                     F         28\n",
    "                     \n",
    "9. status      hsc_s     gender\n",
    "\n",
    "Not Placed  Arts      M          3\n",
    "                      F          2\n",
    "            Commerce  F         18\n",
    "                      M         16\n",
    "            Science   M         20\n",
    "                      F          8\n",
    "Placed      Arts      F          4\n",
    "                      M          2\n",
    "            Commerce  M         57\n",
    "                      F         22\n",
    "            Science   M         41\n",
    "                      F         22\n",
    "                      \n",
    "10. Placed  Arts      Central  F          4\n",
    "                               M          1\n",
    "                      Others   M          1\n",
    "            Commerce  Central  M         23\n",
    "                               F          9\n",
    "                      Others   M         34\n",
    "                               F         13\n",
    "            Science   Central  M         13\n",
    "                               F          7\n",
    "                      Others   M         28\n",
    "                               F         15\n"
   ]
  },
  {
   "cell_type": "code",
   "execution_count": null,
   "id": "e5457d21",
   "metadata": {},
   "outputs": [],
   "source": []
  },
  {
   "cell_type": "markdown",
   "id": "20a81594",
   "metadata": {},
   "source": [
    "# DEGREE"
   ]
  },
  {
   "cell_type": "code",
   "execution_count": 48,
   "id": "636d6295",
   "metadata": {},
   "outputs": [
    {
     "name": "stdout",
     "output_type": "stream",
     "text": [
      "unique_values: \n",
      " ['Sci&Tech' 'Comm&Mgmt' 'Others'] \n",
      " value_counts: \n",
      " Comm&Mgmt    145\n",
      "Sci&Tech      59\n",
      "Others        11\n",
      "Name: degree_t, dtype: int64 \n",
      " proportion of value: \n",
      " Comm&Mgmt    67.441860\n",
      "Sci&Tech     27.441860\n",
      "Others        5.116279\n",
      "Name: degree_t, dtype: float64 \n",
      " count of nan values: 0\n"
     ]
    }
   ],
   "source": [
    "feature_analysis('degree_t')"
   ]
  },
  {
   "cell_type": "code",
   "execution_count": 49,
   "id": "ef64b311",
   "metadata": {},
   "outputs": [
    {
     "name": "stdout",
     "output_type": "stream",
     "text": [
      "<class 'pandas.core.series.Series'>\n",
      "RangeIndex: 215 entries, 0 to 214\n",
      "Series name: degree_t\n",
      "Non-Null Count  Dtype \n",
      "--------------  ----- \n",
      "215 non-null    object\n",
      "dtypes: object(1)\n",
      "memory usage: 1.8+ KB\n"
     ]
    }
   ],
   "source": [
    "cat_dtype_change('degree_t')"
   ]
  },
  {
   "cell_type": "code",
   "execution_count": 50,
   "id": "b3644679",
   "metadata": {},
   "outputs": [
    {
     "data": {
      "image/png": "[encoded data removed]",
      "text/plain": [
       "<Figure size 1440x360 with 3 Axes>"
      ]
     },
     "metadata": {
      "needs_background": "light"
     },
     "output_type": "display_data"
    }
   ],
   "source": [
    "multi_pie_count('degree_t','gender','status')"
   ]
  },
  {
   "cell_type": "code",
   "execution_count": 51,
   "id": "3c9986f6",
   "metadata": {},
   "outputs": [
    {
     "name": "stdout",
     "output_type": "stream",
     "text": [
      "persons get placements:\n",
      " Comm&Mgmt    68.918919\n",
      "Sci&Tech     27.702703\n",
      "Others        3.378378\n",
      "Name: degree_t, dtype: float64\n",
      "\n",
      "\n",
      "persons not get placements: \n",
      " Comm&Mgmt    64.179104\n",
      "Sci&Tech     26.865672\n",
      "Others        8.955224\n",
      "Name: degree_t, dtype: float64\n"
     ]
    }
   ],
   "source": [
    "status_ratio('degree_t')"
   ]
  },
  {
   "cell_type": "code",
   "execution_count": 52,
   "id": "9695f556",
   "metadata": {},
   "outputs": [
    {
     "data": {
      "text/plain": [
       "status      degree_t   gender\n",
       "Not Placed  Comm&Mgmt  M         23\n",
       "                       F         20\n",
       "            Others     M          4\n",
       "                       F          2\n",
       "            Sci&Tech   M         12\n",
       "                       F          6\n",
       "Placed      Comm&Mgmt  M         69\n",
       "                       F         33\n",
       "            Others     F          4\n",
       "                       M          1\n",
       "            Sci&Tech   M         30\n",
       "                       F         11\n",
       "Name: gender, dtype: int64"
      ]
     },
     "execution_count": 52,
     "metadata": {},
     "output_type": "execute_result"
    }
   ],
   "source": [
    "df.groupby(['status', 'degree_t'])['gender'].value_counts()"
   ]
  },
  {
   "cell_type": "code",
   "execution_count": null,
   "id": "c15de39b",
   "metadata": {},
   "outputs": [],
   "source": []
  },
  {
   "cell_type": "raw",
   "id": "8b1ac0a7",
   "metadata": {},
   "source": [
    "DEGREE:\n",
    "    \n",
    "    1. In the graduation/degree there are 3 groups (['Sci&Tech' 'Comm&Mgmt' 'Others'] )\n",
    "    2. comm&mgmt are 67.44% , sci&ech are 27.44%, others are 5.12%.\n",
    "    3. In  case of gender both comm&mgmt and sci&tech males are more than females. In case of arts females are slightly higher than males.\n",
    "    4. In the case of placement comm&mgmt students are getting placed more than other streams.\n",
    "5. persons get placements:\n",
    "    \n",
    " Comm&Mgmt    68.918919\n",
    "Sci&Tech     27.702703\n",
    "Others        3.378378\n",
    "Name: degree_t, dtype: float64\n",
    "\n",
    "\n",
    "persons not get placements: \n",
    "    \n",
    " Comm&Mgmt    64.179104\n",
    "Sci&Tech     26.865672\n",
    "Others        8.955224\n",
    "\n",
    "6. status      degree_t   gender\n",
    "\n",
    "Not Placed  Comm&Mgmt  M         23\n",
    "                       F         20\n",
    "            Others     M          4\n",
    "                       F          2\n",
    "            Sci&Tech   M         12\n",
    "                       F          6\n",
    "Placed      Comm&Mgmt  M         69\n",
    "                       F         33\n",
    "            Others     F          4\n",
    "                       M          1\n",
    "            Sci&Tech   M         30\n",
    "                       F         11"
   ]
  },
  {
   "cell_type": "code",
   "execution_count": null,
   "id": "3c2b4210",
   "metadata": {},
   "outputs": [],
   "source": []
  },
  {
   "cell_type": "markdown",
   "id": "8a5bf9c4",
   "metadata": {},
   "source": [
    "# MBA "
   ]
  },
  {
   "cell_type": "code",
   "execution_count": 53,
   "id": "f9ef0ab3",
   "metadata": {},
   "outputs": [
    {
     "name": "stdout",
     "output_type": "stream",
     "text": [
      "unique_values: \n",
      " ['Mkt&HR' 'Mkt&Fin'] \n",
      " value_counts: \n",
      " Mkt&Fin    120\n",
      "Mkt&HR      95\n",
      "Name: specialisation, dtype: int64 \n",
      " proportion of value: \n",
      " Mkt&Fin    55.813953\n",
      "Mkt&HR     44.186047\n",
      "Name: specialisation, dtype: float64 \n",
      " count of nan values: 0\n"
     ]
    }
   ],
   "source": [
    "feature_analysis('specialisation')"
   ]
  },
  {
   "cell_type": "code",
   "execution_count": 54,
   "id": "9395da5b",
   "metadata": {},
   "outputs": [
    {
     "name": "stdout",
     "output_type": "stream",
     "text": [
      "<class 'pandas.core.series.Series'>\n",
      "RangeIndex: 215 entries, 0 to 214\n",
      "Series name: specialisation\n",
      "Non-Null Count  Dtype \n",
      "--------------  ----- \n",
      "215 non-null    object\n",
      "dtypes: object(1)\n",
      "memory usage: 1.8+ KB\n"
     ]
    }
   ],
   "source": [
    "cat_dtype_change('specialisation')"
   ]
  },
  {
   "cell_type": "code",
   "execution_count": 55,
   "id": "e94e90a0",
   "metadata": {},
   "outputs": [
    {
     "data": {
      "image/png": "[encoded data removed]",
      "text/plain": [
       "<Figure size 1440x360 with 3 Axes>"
      ]
     },
     "metadata": {
      "needs_background": "light"
     },
     "output_type": "display_data"
    }
   ],
   "source": [
    "multi_pie_count('specialisation', 'gender','status')"
   ]
  },
  {
   "cell_type": "code",
   "execution_count": 56,
   "id": "35aca09d",
   "metadata": {},
   "outputs": [
    {
     "name": "stdout",
     "output_type": "stream",
     "text": [
      "persons get placements:\n",
      " Mkt&Fin    64.189189\n",
      "Mkt&HR     35.810811\n",
      "Name: specialisation, dtype: float64\n",
      "\n",
      "\n",
      "persons not get placements: \n",
      " Mkt&HR     62.686567\n",
      "Mkt&Fin    37.313433\n",
      "Name: specialisation, dtype: float64\n"
     ]
    }
   ],
   "source": [
    "status_ratio('specialisation')"
   ]
  },
  {
   "cell_type": "code",
   "execution_count": 57,
   "id": "0f1f6a85",
   "metadata": {},
   "outputs": [
    {
     "data": {
      "text/plain": [
       "status      degree_t   specialisation  gender\n",
       "Not Placed  Comm&Mgmt  Mkt&Fin         F          9\n",
       "                                       M          9\n",
       "                       Mkt&HR          M         14\n",
       "                                       F         11\n",
       "            Others     Mkt&Fin         M          2\n",
       "                       Mkt&HR          F          2\n",
       "                                       M          2\n",
       "            Sci&Tech   Mkt&Fin         M          5\n",
       "                       Mkt&HR          M          7\n",
       "                                       F          6\n",
       "Placed      Comm&Mgmt  Mkt&Fin         M         47\n",
       "                                       F         21\n",
       "                       Mkt&HR          M         22\n",
       "                                       F         12\n",
       "            Others     Mkt&Fin         F          2\n",
       "                       Mkt&HR          F          2\n",
       "                                       M          1\n",
       "            Sci&Tech   Mkt&Fin         M         20\n",
       "                                       F          5\n",
       "                       Mkt&HR          M         10\n",
       "                                       F          6\n",
       "Name: gender, dtype: int64"
      ]
     },
     "execution_count": 57,
     "metadata": {},
     "output_type": "execute_result"
    }
   ],
   "source": [
    "df.groupby(['status','degree_t','specialisation'])['gender'].value_counts()"
   ]
  },
  {
   "cell_type": "raw",
   "id": "d1ff3004",
   "metadata": {},
   "source": [
    "MBA:\n",
    "    1. In masters degree there are 2 groups-- marketing and finance , marketing and HR .\n",
    "    2. In both the fields male are performed well than females.\n",
    "    3. In the placements mkt&fin group got placed more than mkt&HR.\n",
    "4. persons get placements:\n",
    " Mkt&Fin    64.189189\n",
    "Mkt&HR     35.810811\n",
    "Name: specialisation, dtype: float64\n",
    "\n",
    "\n",
    "persons not get placements: \n",
    " Mkt&HR     62.686567\n",
    "Mkt&Fin    37.313433\n",
    "\n",
    "5. status      degree_t   specialisation  gender\n",
    "Not Placed  Comm&Mgmt  Mkt&Fin         F          9\n",
    "                                       M          9\n",
    "                       Mkt&HR          M         14\n",
    "                                       F         11\n",
    "            Others     Mkt&Fin         M          2\n",
    "                       Mkt&HR          F          2\n",
    "                                       M          2\n",
    "            Sci&Tech   Mkt&Fin         M          5\n",
    "                       Mkt&HR          M          7\n",
    "                                       F          6\n",
    "                                       \n",
    "                                       \n",
    "Placed      Comm&Mgmt  Mkt&Fin         M         47\n",
    "                                       F         21\n",
    "                       Mkt&HR          M         22\n",
    "                                       F         12\n",
    "            Others     Mkt&Fin         F          2\n",
    "                       Mkt&HR          F          2\n",
    "                                       M          1\n",
    "            Sci&Tech   Mkt&Fin         M         20\n",
    "                                       F          5\n",
    "                       Mkt&HR          M         10\n",
    "                                       F          6"
   ]
  },
  {
   "cell_type": "code",
   "execution_count": null,
   "id": "f9b27e96",
   "metadata": {},
   "outputs": [],
   "source": []
  },
  {
   "cell_type": "markdown",
   "id": "f44621d9",
   "metadata": {},
   "source": [
    "# WORK EXPERIENCE"
   ]
  },
  {
   "cell_type": "code",
   "execution_count": 58,
   "id": "431db562",
   "metadata": {},
   "outputs": [
    {
     "name": "stdout",
     "output_type": "stream",
     "text": [
      "unique_values: \n",
      " ['No' 'Yes'] \n",
      " value_counts: \n",
      " No     141\n",
      "Yes     74\n",
      "Name: workex, dtype: int64 \n",
      " proportion of value: \n",
      " No     65.581395\n",
      "Yes    34.418605\n",
      "Name: workex, dtype: float64 \n",
      " count of nan values: 0\n"
     ]
    }
   ],
   "source": [
    "feature_analysis('workex')"
   ]
  },
  {
   "cell_type": "code",
   "execution_count": 59,
   "id": "5c0d31ed",
   "metadata": {},
   "outputs": [
    {
     "name": "stdout",
     "output_type": "stream",
     "text": [
      "<class 'pandas.core.series.Series'>\n",
      "RangeIndex: 215 entries, 0 to 214\n",
      "Series name: workex\n",
      "Non-Null Count  Dtype \n",
      "--------------  ----- \n",
      "215 non-null    object\n",
      "dtypes: object(1)\n",
      "memory usage: 1.8+ KB\n"
     ]
    }
   ],
   "source": [
    "cat_dtype_change('workex')"
   ]
  },
  {
   "cell_type": "code",
   "execution_count": 60,
   "id": "880401cc",
   "metadata": {},
   "outputs": [
    {
     "data": {
      "image/png": "[encoded data removed]",
      "text/plain": [
       "<Figure size 1440x360 with 3 Axes>"
      ]
     },
     "metadata": {
      "needs_background": "light"
     },
     "output_type": "display_data"
    }
   ],
   "source": [
    "multi_pie_count('workex','gender', 'status')"
   ]
  },
  {
   "cell_type": "code",
   "execution_count": 61,
   "id": "ae147bb4",
   "metadata": {},
   "outputs": [
    {
     "name": "stdout",
     "output_type": "stream",
     "text": [
      "persons get placements:\n",
      " No     56.756757\n",
      "Yes    43.243243\n",
      "Name: workex, dtype: float64\n",
      "\n",
      "\n",
      "persons not get placements: \n",
      " No     85.074627\n",
      "Yes    14.925373\n",
      "Name: workex, dtype: float64\n"
     ]
    }
   ],
   "source": [
    "status_ratio('workex')"
   ]
  },
  {
   "cell_type": "code",
   "execution_count": 62,
   "id": "66dad065",
   "metadata": {},
   "outputs": [
    {
     "data": {
      "text/plain": [
       "status      workex  gender\n",
       "Not Placed  No      M         33\n",
       "                    F         24\n",
       "            Yes     M          6\n",
       "                    F          4\n",
       "Placed      No      M         54\n",
       "                    F         30\n",
       "            Yes     M         46\n",
       "                    F         18\n",
       "Name: gender, dtype: int64"
      ]
     },
     "execution_count": 62,
     "metadata": {},
     "output_type": "execute_result"
    }
   ],
   "source": [
    "df.groupby(['status','workex'])['gender'].value_counts()"
   ]
  },
  {
   "cell_type": "code",
   "execution_count": 63,
   "id": "25aa147b",
   "metadata": {},
   "outputs": [
    {
     "data": {
      "text/plain": [
       "status      specialisation  workex\n",
       "Not Placed  Mkt&Fin         No        84.000000\n",
       "                            Yes       16.000000\n",
       "            Mkt&HR          No        85.714286\n",
       "                            Yes       14.285714\n",
       "Placed      Mkt&Fin         No        50.526316\n",
       "                            Yes       49.473684\n",
       "            Mkt&HR          No        67.924528\n",
       "                            Yes       32.075472\n",
       "Name: workex, dtype: float64"
      ]
     },
     "execution_count": 63,
     "metadata": {},
     "output_type": "execute_result"
    }
   ],
   "source": [
    "df.groupby(['status','specialisation'])['workex'].value_counts(normalize =True)*100"
   ]
  },
  {
   "cell_type": "raw",
   "id": "22d9e899",
   "metadata": {},
   "source": [
    "WORK EXPERIENCE:\n",
    "    \n",
    "     1.THERE ARE 2 TYPES. HAVING EXPERIEN - 34% . NOT HAVING - 66%.\n",
    "     2. iN GENDER COLUMN SAME AS MALE ARE MOST.\n",
    "     3. IN PLACEMENTS PEOPLE WITH NOT EXPERIENCE GOT MORE PLACED WHEN COMPARED TO THE ONE HAVING EXPERIENCE.\n",
    "     4. SO IT IS A GOOD OPPORTUNITY FOR FRESHERS.\n",
    "    \n",
    "5. persons get placements:\n",
    " No     56.756757\n",
    "Yes    43.243243\n",
    "Name: workex, dtype: float64\n",
    "\n",
    "\n",
    "persons not get placements: \n",
    " No     85.074627\n",
    "Yes    14.925373\n",
    "\n",
    "6. status      workex  gender\n",
    "Not Placed  No      M         33\n",
    "                    F         24\n",
    "            Yes     M          6\n",
    "                    F          4\n",
    "Placed      No      M         54\n",
    "                    F         30\n",
    "            Yes     M         46\n",
    "                    F         18\n",
    "            \n",
    "7.status      specialisation  workex\n",
    "Not Placed  Mkt&Fin         No        84.000000\n",
    "                            Yes       16.000000\n",
    "            Mkt&HR          No        85.714286\n",
    "                            Yes       14.285714\n",
    "Placed      Mkt&Fin         No        50.526316\n",
    "                            Yes       49.473684\n",
    "            Mkt&HR          No        67.924528\n",
    "                            Yes       32.075472\n",
    "     "
   ]
  },
  {
   "cell_type": "code",
   "execution_count": 64,
   "id": "1d1fea83",
   "metadata": {},
   "outputs": [
    {
     "data": {
      "text/plain": [
       "<AxesSubplot:xlabel='degree_p', ylabel='hsc_p'>"
      ]
     },
     "execution_count": 64,
     "metadata": {},
     "output_type": "execute_result"
    },
    {
     "data": {
      "image/png": "[encoded data removed]",
      "text/plain": [
       "<Figure size 1080x360 with 2 Axes>"
      ]
     },
     "metadata": {
      "needs_background": "light"
     },
     "output_type": "display_data"
    }
   ],
   "source": [
    "fig = plt.figure(figsize = (15,5))\n",
    "plt.subplot(121)\n",
    "sns.scatterplot(data =df, x ='ssc_p' , y='hsc_p',hue = 'status',style = 'gender')\n",
    "plt.subplot(122)\n",
    "sns.scatterplot(data =df, x ='degree_p' , y='hsc_p',hue = 'status',style = 'gender')"
   ]
  },
  {
   "cell_type": "code",
   "execution_count": null,
   "id": "16f2f459",
   "metadata": {},
   "outputs": [],
   "source": []
  },
  {
   "cell_type": "code",
   "execution_count": 65,
   "id": "70c202f5",
   "metadata": {},
   "outputs": [
    {
     "data": {
      "text/plain": [
       "<AxesSubplot:>"
      ]
     },
     "execution_count": 65,
     "metadata": {},
     "output_type": "execute_result"
    },
    {
     "data": {
      "image/png": "[encoded data removed]",
      "text/plain": [
       "<Figure size 432x288 with 2 Axes>"
      ]
     },
     "metadata": {
      "needs_background": "light"
     },
     "output_type": "display_data"
    }
   ],
   "source": [
    "sns.heatmap(data = num, annot = True)"
   ]
  },
  {
   "cell_type": "code",
   "execution_count": 66,
   "id": "9cabd46c",
   "metadata": {},
   "outputs": [
    {
     "data": {
      "text/plain": [
       "hsc_b    hsc_s     degree_t   specialisation  workex  status    \n",
       "Central  Arts      Comm&Mgmt  Mkt&Fin         No      Placed         66.666667\n",
       "                                                      Not Placed     33.333333\n",
       "                                              Yes     Placed        100.000000\n",
       "                              Mkt&HR          Yes     Not Placed    100.000000\n",
       "                   Others     Mkt&Fin         No      Placed        100.000000\n",
       "                              Mkt&HR          Yes     Placed        100.000000\n",
       "         Commerce  Comm&Mgmt  Mkt&Fin         No      Placed         68.181818\n",
       "                                                      Not Placed     31.818182\n",
       "                                              Yes     Placed         88.888889\n",
       "                                                      Not Placed     11.111111\n",
       "                              Mkt&HR          No      Placed         58.333333\n",
       "                                                      Not Placed     41.666667\n",
       "                                              Yes     Placed         66.666667\n",
       "                                                      Not Placed     33.333333\n",
       "                   Others     Mkt&HR          No      Not Placed    100.000000\n",
       "                   Sci&Tech   Mkt&HR          No      Not Placed    100.000000\n",
       "         Science   Comm&Mgmt  Mkt&Fin         No      Placed         66.666667\n",
       "                                                      Not Placed     33.333333\n",
       "                                              Yes     Placed        100.000000\n",
       "                              Mkt&HR          No      Not Placed     50.000000\n",
       "                                                      Placed         50.000000\n",
       "                   Others     Mkt&Fin         No      Not Placed    100.000000\n",
       "                              Mkt&HR          No      Not Placed     50.000000\n",
       "                                                      Placed         50.000000\n",
       "                                              Yes     Placed        100.000000\n",
       "                   Sci&Tech   Mkt&Fin         No      Placed        100.000000\n",
       "                                              Yes     Placed        100.000000\n",
       "                              Mkt&HR          No      Not Placed     62.500000\n",
       "                                                      Placed         37.500000\n",
       "                                              Yes     Placed        100.000000\n",
       "Others   Arts      Comm&Mgmt  Mkt&Fin         No      Not Placed    100.000000\n",
       "                                              Yes     Placed        100.000000\n",
       "                   Others     Mkt&Fin         Yes     Not Placed    100.000000\n",
       "                              Mkt&HR          No      Not Placed    100.000000\n",
       "         Commerce  Comm&Mgmt  Mkt&Fin         No      Placed         68.181818\n",
       "                                                      Not Placed     31.818182\n",
       "                                              Yes     Placed        100.000000\n",
       "                              Mkt&HR          No      Placed         58.823529\n",
       "                                                      Not Placed     41.176471\n",
       "                                              Yes     Placed         62.500000\n",
       "                                                      Not Placed     37.500000\n",
       "                   Sci&Tech   Mkt&Fin         No      Not Placed    100.000000\n",
       "                              Mkt&HR          No      Placed        100.000000\n",
       "         Science   Comm&Mgmt  Mkt&Fin         No      Placed        100.000000\n",
       "                                              Yes     Placed        100.000000\n",
       "                              Mkt&HR          No      Placed         53.333333\n",
       "                                                      Not Placed     46.666667\n",
       "                                              Yes     Placed        100.000000\n",
       "                   Others     Mkt&Fin         Yes     Placed        100.000000\n",
       "                              Mkt&HR          No      Not Placed    100.000000\n",
       "                   Sci&Tech   Mkt&Fin         No      Placed         81.818182\n",
       "                                                      Not Placed     18.181818\n",
       "                                              Yes     Placed         84.615385\n",
       "                                                      Not Placed     15.384615\n",
       "                              Mkt&HR          No      Not Placed     54.545455\n",
       "                                                      Placed         45.454545\n",
       "                                              Yes     Placed         66.666667\n",
       "                                                      Not Placed     33.333333\n",
       "Name: status, dtype: float64"
      ]
     },
     "execution_count": 66,
     "metadata": {},
     "output_type": "execute_result"
    }
   ],
   "source": [
    "df.groupby(['hsc_b','hsc_s','degree_t','specialisation','workex'])['status'].value_counts(normalize =True)*100"
   ]
  },
  {
   "cell_type": "raw",
   "id": "05b7e615",
   "metadata": {},
   "source": [
    "OSERVATIONS:\n",
    "    \n",
    "    @ THERE IS NO MISSING VALUES IN ANY FIELD EXPECT SALARY.\n",
    "\n",
    "    @ BECAUSE IN THE SALARY COLUMN WHO ARE ALL SELECTED GOT THE SALARY. REMAINING TAKE AS '0'  ITSTEAD OF NAN VALUES.\n",
    "\n",
    "    @ Dropping serial no column since it acts as an index. \n",
    "\n",
    "    \n",
    "GENDER:\n",
    "    \n",
    "@ males are more proportion than females.\n",
    "@ In case of placements males are get more opportunity than females.\n",
    "M       Placed        46.511628 %\n",
    "F       Placed        22.325581 %\n",
    "\n",
    "SSC BOARD:\n",
    "    1. In the ssc board most of them are central board.\n",
    "    2. central board students are 54% and others are 46% \n",
    "    3. In the central board most of them are males when compared to females.\n",
    "    4. In the placements central board students are get placed more than other board students.\n",
    "    5. In the column central board male students are getting more chances than others.\n",
    "6. in case of ssc percentage central board students getting more percentage than other board students.\n",
    "7.persons get placements:\n",
    "                  Central    52.702703\n",
    "                  Others     47.297297\n",
    "    8.persons get placements:\n",
    "                     M    67.567568\n",
    "                     F    32.432432\n",
    "                     \n",
    "    9. persons not get placements: \n",
    "             M    58.208955\n",
    "             F    41.791045\n",
    "    10. persons not get placements: \n",
    "         Central    56.716418\n",
    "         Others     43.283582\n",
    "\n",
    "HSC BOARD:\n",
    "     1. In HSC Board most of them are from other boards.\n",
    "     2. other boards students are 60.93% and central board students are 39%.\n",
    "     3. in both central and other boards males are more than females.\n",
    "     4. In case of placements other board students are placement when compared to central board students.\n",
    "     5. persons get placements:\n",
    "             Others     61.486486 \n",
    "            Central    38.513514\n",
    "    6. persons not get placements: \n",
    "             Others     59.701493\n",
    "            Central    40.298507\n",
    "    7. In the other board students \n",
    "            M    67.175573\n",
    "            F    32.824427\n",
    "            \n",
    "    8. In the central board students\n",
    "          M    60.714286\n",
    "          F    39.285714\n",
    "\n",
    "HSC SUBJECTS:\n",
    "      1. THERE ARE 3 SUBJECTS ( ['Commerce' 'Science' 'Arts']).\n",
    "    2. COMMERCE SUBJECTS ARE MAJORITY OF THEM TAKEN.FOLLOWED BY SCIENCE.\n",
    "      3. IN ALL SUBJECTS MALES ARE MORE THAN FEMALES.\n",
    "    4. IN CASE OF PLACEMENTS COMMERCE GROUP OF STUDENTS GOT MORE PLACED THAN OTHER STREAM.\n",
    "    5. IN COMMERCE MALES ARE GET MORE OPPURTUNITY THAN FEMALES.\n",
    "    6. persons get placements:\n",
    "        \n",
    "        Commerce    53.378378\n",
    "        Science     42.567568\n",
    "        Arts         4.054054\n",
    "7. commerce groupstudents:\n",
    "    \n",
    "Others     57.522124\n",
    "Central    42.477876\n",
    "Name: hsc_b, \n",
    "\n",
    "\n",
    "science group students: \n",
    "    \n",
    "Others     68.131868\n",
    "Central    31.868132\n",
    "Name: hsc_b,\n",
    "\n",
    "arts group students: \n",
    "    \n",
    "Central    63.636364\n",
    "Others     36.363636\n",
    "Name: hsc_b,\n",
    "\n",
    "8.status      hsc_b    gender\n",
    "Not Placed  Central  M         14\n",
    "                     F         13\n",
    "            Others   M         25\n",
    "                     F         15\n",
    "Placed      Central  M         37\n",
    "                     F         20\n",
    "            Others   M         63\n",
    "                     F         28\n",
    "                     \n",
    "9. status      hsc_s     gender\n",
    "\n",
    "Not Placed  Arts      M          3\n",
    "                      F          2\n",
    "            Commerce  F         18\n",
    "                      M         16\n",
    "            Science   M         20\n",
    "                      F          8\n",
    "Placed      Arts      F          4\n",
    "                      M          2\n",
    "            Commerce  M         57\n",
    "                      F         22\n",
    "            Science   M         41\n",
    "                      F         22\n",
    "                      \n",
    "10. Placed  Arts      Central  F          4\n",
    "                               M          1\n",
    "                      Others   M          1\n",
    "            Commerce  Central  M         23\n",
    "                               F          9\n",
    "                      Others   M         34\n",
    "                               F         13\n",
    "            Science   Central  M         13\n",
    "                               F          7\n",
    "                      Others   M         28\n",
    "                               F         15\n",
    "\n",
    "\n",
    "DEGREE:\n",
    "    \n",
    "    1. In the graduation/degree there are 3 groups (['Sci&Tech' 'Comm&Mgmt' 'Others'] )\n",
    "    2. comm&mgmt are 67.44% , sci&ech are 27.44%, others are 5.12%.\n",
    "    3. In  case of gender both comm&mgmt and sci&tech males are more than females. In case of arts females are slightly higher than males.\n",
    "    4. In the case of placement comm&mgmt students are getting placed more than other streams.\n",
    "5. persons get placements:\n",
    "    \n",
    " Comm&Mgmt    68.918919\n",
    "Sci&Tech     27.702703\n",
    "Others        3.378378\n",
    "Name: degree_t, dtype: float64\n",
    "\n",
    "\n",
    "persons not get placements: \n",
    "    \n",
    " Comm&Mgmt    64.179104\n",
    "Sci&Tech     26.865672\n",
    "Others        8.955224\n",
    "\n",
    "6. status      degree_t   gender\n",
    "\n",
    "Not Placed  Comm&Mgmt  M         23\n",
    "                       F         20\n",
    "            Others     M          4\n",
    "                       F          2\n",
    "            Sci&Tech   M         12\n",
    "                       F          6\n",
    "Placed      Comm&Mgmt  M         69\n",
    "                       F         33\n",
    "            Others     F          4\n",
    "                       M          1\n",
    "            Sci&Tech   M         30\n",
    "                       F         11\n",
    "\n",
    "MBA:\n",
    "    1. In masters degree there are 2 groups-- marketing and finance , marketing and HR .\n",
    "    2. In both the fields male are performed well than females.\n",
    "    3. In the placements mkt&fin group got placed more than mkt&HR.\n",
    "4. persons get placements:\n",
    " Mkt&Fin    64.189189\n",
    "Mkt&HR     35.810811\n",
    "Name: specialisation, dtype: float64\n",
    "\n",
    "\n",
    "persons not get placements: \n",
    " Mkt&HR     62.686567\n",
    "Mkt&Fin    37.313433\n",
    "\n",
    "5. status      degree_t   specialisation  gender\n",
    "Not Placed  Comm&Mgmt  Mkt&Fin         F          9\n",
    "                                       M          9\n",
    "                       Mkt&HR          M         14\n",
    "                                       F         11\n",
    "            Others     Mkt&Fin         M          2\n",
    "                       Mkt&HR          F          2\n",
    "                                       M          2\n",
    "            Sci&Tech   Mkt&Fin         M          5\n",
    "                       Mkt&HR          M          7\n",
    "                                       F          6\n",
    "                                       \n",
    "                                       \n",
    "Placed      Comm&Mgmt  Mkt&Fin         M         47\n",
    "                                       F         21\n",
    "                       Mkt&HR          M         22\n",
    "                                       F         12\n",
    "            Others     Mkt&Fin         F          2\n",
    "                       Mkt&HR          F          2\n",
    "                                       M          1\n",
    "            Sci&Tech   Mkt&Fin         M         20\n",
    "                                       F          5\n",
    "                       Mkt&HR          M         10\n",
    "                                       F          6\n",
    "\n",
    "\n",
    "\n",
    "WORK EXPERIENCE:\n",
    "    \n",
    "     1.THERE ARE 2 TYPES. HAVING EXPERIEN - 34% . NOT HAVING - 66%.\n",
    "     2. iN GENDER COLUMN SAME AS MALE ARE MOST.\n",
    "     3. IN PLACEMENTS PEOPLE WITH NOT EXPERIENCE GOT MORE PLACED WHEN COMPARED TO THE ONE HAVING EXPERIENCE.\n",
    "     4. SO IT IS A GOOD OPPORTUNITY FOR FRESHERS.\n",
    "    \n",
    "5. persons get placements:\n",
    " No     56.756757\n",
    "Yes    43.243243\n",
    "Name: workex, dtype: float64\n",
    "\n",
    "\n",
    "persons not get placements: \n",
    " No     85.074627\n",
    "Yes    14.925373\n",
    "\n",
    "6. status      workex  gender\n",
    "Not Placed  No      M         33\n",
    "                    F         24\n",
    "            Yes     M          6\n",
    "                    F          4\n",
    "Placed      No      M         54\n",
    "                    F         30\n",
    "            Yes     M         46\n",
    "                    F         18\n",
    "            \n",
    "7.status      specialisation  workex\n",
    "Not Placed  Mkt&Fin         No        84.000000\n",
    "                            Yes       16.000000\n",
    "            Mkt&HR          No        85.714286\n",
    "                            Yes       14.285714\n",
    "Placed      Mkt&Fin         No        50.526316\n",
    "                            Yes       49.473684\n",
    "            Mkt&HR          No        67.924528\n",
    "                            Yes       32.075472\n",
    "     \n",
    "\n",
    "\n",
    "    \n",
    "    \n",
    " 8. 1. In highersecondary level \"Central board \" students \"Arts\" students who has degree in \"commerce and management\" department and also has MBA specialisation in \"Marketing&Finance\", but has \"no workexperience\"before \"get placed\"in the placements with 67% accuracy and the same level of qualifications \"not placed\" with 33% accuracy.\n",
    "\n",
    "The above mentioned qualifications with having work experience get placed with \"100 %\" accuracy.\n",
    "\n",
    "2.  In highersecondary level \"Central board \" students \"Arts\" students who has degree in \"commerce and management\" department and also has MBA specialisation in \"Marketing&HR\", but has \" workexperience\" before  \"not placed\" with \" 100% \" accuracy.   \n",
    "    \n",
    "    \n",
    "    \n",
    "    \n",
    "    \n",
    "    \n",
    "    \n",
    "        hsc_b    hsc_s     degree_t   specialisation  workex  status    \n",
    "Central  Arts      Comm&Mgmt  Mkt&Fin         No      Placed         66.666667\n",
    "                                                      Not Placed     33.333333\n",
    "                                              Yes     Placed        100.000000\n",
    "                              Mkt&HR          Yes     Not Placed    100.000000\n",
    "                   Others     Mkt&Fin         No      Placed        100.000000\n",
    "                              Mkt&HR          Yes     Placed        100.000000\n",
    "         Commerce  Comm&Mgmt  Mkt&Fin         No      Placed         68.181818\n",
    "                                                      Not Placed     31.818182\n",
    "                                              Yes     Placed         88.888889\n",
    "                                                      Not Placed     11.111111\n",
    "                              Mkt&HR          No      Placed         58.333333\n",
    "                                                      Not Placed     41.666667\n",
    "                                              Yes     Placed         66.666667\n",
    "                                                      Not Placed     33.333333\n",
    "                   Others     Mkt&HR          No      Not Placed    100.000000\n",
    "                   Sci&Tech   Mkt&HR          No      Not Placed    100.000000\n",
    "         Science   Comm&Mgmt  Mkt&Fin         No      Placed         66.666667\n",
    "                                                      Not Placed     33.333333\n",
    "                                              Yes     Placed        100.000000\n",
    "                              Mkt&HR          No      Not Placed     50.000000\n",
    "                                                      Placed         50.000000\n",
    "                   Others     Mkt&Fin         No      Not Placed    100.000000\n",
    "                              Mkt&HR          No      Not Placed     50.000000\n",
    "                                                      Placed         50.000000\n",
    "                                              Yes     Placed        100.000000\n",
    "                   Sci&Tech   Mkt&Fin         No      Placed        100.000000\n",
    "                                              Yes     Placed        100.000000\n",
    "                              Mkt&HR          No      Not Placed     62.500000\n",
    "                                                      Placed         37.500000\n",
    "                                              Yes     Placed        100.000000\n",
    "Others   Arts      Comm&Mgmt  Mkt&Fin         No      Not Placed    100.000000\n",
    "                                              Yes     Placed        100.000000\n",
    "                   Others     Mkt&Fin         Yes     Not Placed    100.000000\n",
    "                              Mkt&HR          No      Not Placed    100.000000\n",
    "         Commerce  Comm&Mgmt  Mkt&Fin         No      Placed         68.181818\n",
    "                                                      Not Placed     31.818182\n",
    "                                              Yes     Placed        100.000000\n",
    "                              Mkt&HR          No      Placed         58.823529\n",
    "                                                      Not Placed     41.176471\n",
    "                                              Yes     Placed         62.500000\n",
    "                                                      Not Placed     37.500000\n",
    "                   Sci&Tech   Mkt&Fin         No      Not Placed    100.000000\n",
    "                              Mkt&HR          No      Placed        100.000000\n",
    "         Science   Comm&Mgmt  Mkt&Fin         No      Placed        100.000000\n",
    "                                              Yes     Placed        100.000000\n",
    "                              Mkt&HR          No      Placed         53.333333\n",
    "                                                      Not Placed     46.666667\n",
    "                                              Yes     Placed        100.000000\n",
    "                   Others     Mkt&Fin         Yes     Placed        100.000000\n",
    "                              Mkt&HR          No      Not Placed    100.000000\n",
    "                   Sci&Tech   Mkt&Fin         No      Placed         81.818182\n",
    "                                                      Not Placed     18.181818\n",
    "                                              Yes     Placed         84.615385\n",
    "                                                      Not Placed     15.384615\n",
    "                              Mkt&HR          No      Not Placed     54.545455\n",
    "                                                      Placed         45.454545\n",
    "                                              Yes     Placed         66.666667\n",
    "                                                      Not Placed     33.333333"
   ]
  },
  {
   "cell_type": "markdown",
   "id": "c93a222f",
   "metadata": {},
   "source": [
    "# MODEL BUILDING"
   ]
  },
  {
   "cell_type": "code",
   "execution_count": 69,
   "id": "95dce274",
   "metadata": {},
   "outputs": [],
   "source": [
    "X = df.drop(columns = 'status')\n",
    "y = df['status']"
   ]
  },
  {
   "cell_type": "code",
   "execution_count": 72,
   "id": "cffccdc8",
   "metadata": {},
   "outputs": [],
   "source": [
    "x_encoded= pd.get_dummies(df ,drop_first =True)"
   ]
  },
  {
   "cell_type": "code",
   "execution_count": 73,
   "id": "192ec3ae",
   "metadata": {},
   "outputs": [
    {
     "data": {
      "text/html": [
       "<div>\n",
       "<style scoped>\n",
       "    .dataframe tbody tr th:only-of-type {\n",
       "        vertical-align: middle;\n",
       "    }\n",
       "\n",
       "    .dataframe tbody tr th {\n",
       "        vertical-align: top;\n",
       "    }\n",
       "\n",
       "    .dataframe thead th {\n",
       "        text-align: right;\n",
       "    }\n",
       "</style>\n",
       "<table border=\"1\" class=\"dataframe\">\n",
       "  <thead>\n",
       "    <tr style=\"text-align: right;\">\n",
       "      <th></th>\n",
       "      <th>ssc_p</th>\n",
       "      <th>hsc_p</th>\n",
       "      <th>degree_p</th>\n",
       "      <th>etest_p</th>\n",
       "      <th>mba_p</th>\n",
       "      <th>salary</th>\n",
       "      <th>gender_M</th>\n",
       "      <th>ssc_b_Others</th>\n",
       "      <th>hsc_b_Others</th>\n",
       "      <th>hsc_s_Commerce</th>\n",
       "      <th>hsc_s_Science</th>\n",
       "      <th>degree_t_Others</th>\n",
       "      <th>degree_t_Sci&amp;Tech</th>\n",
       "      <th>workex_Yes</th>\n",
       "      <th>specialisation_Mkt&amp;HR</th>\n",
       "      <th>status_Placed</th>\n",
       "    </tr>\n",
       "  </thead>\n",
       "  <tbody>\n",
       "    <tr>\n",
       "      <th>0</th>\n",
       "      <td>67.00</td>\n",
       "      <td>91.00</td>\n",
       "      <td>58.00</td>\n",
       "      <td>55.0</td>\n",
       "      <td>58.80</td>\n",
       "      <td>270000.0</td>\n",
       "      <td>1</td>\n",
       "      <td>1</td>\n",
       "      <td>1</td>\n",
       "      <td>1</td>\n",
       "      <td>0</td>\n",
       "      <td>0</td>\n",
       "      <td>1</td>\n",
       "      <td>0</td>\n",
       "      <td>1</td>\n",
       "      <td>1</td>\n",
       "    </tr>\n",
       "    <tr>\n",
       "      <th>1</th>\n",
       "      <td>79.33</td>\n",
       "      <td>78.33</td>\n",
       "      <td>77.48</td>\n",
       "      <td>86.5</td>\n",
       "      <td>66.28</td>\n",
       "      <td>200000.0</td>\n",
       "      <td>1</td>\n",
       "      <td>0</td>\n",
       "      <td>1</td>\n",
       "      <td>0</td>\n",
       "      <td>1</td>\n",
       "      <td>0</td>\n",
       "      <td>1</td>\n",
       "      <td>1</td>\n",
       "      <td>0</td>\n",
       "      <td>1</td>\n",
       "    </tr>\n",
       "    <tr>\n",
       "      <th>2</th>\n",
       "      <td>65.00</td>\n",
       "      <td>68.00</td>\n",
       "      <td>64.00</td>\n",
       "      <td>75.0</td>\n",
       "      <td>57.80</td>\n",
       "      <td>250000.0</td>\n",
       "      <td>1</td>\n",
       "      <td>0</td>\n",
       "      <td>0</td>\n",
       "      <td>0</td>\n",
       "      <td>0</td>\n",
       "      <td>0</td>\n",
       "      <td>0</td>\n",
       "      <td>0</td>\n",
       "      <td>0</td>\n",
       "      <td>1</td>\n",
       "    </tr>\n",
       "    <tr>\n",
       "      <th>3</th>\n",
       "      <td>56.00</td>\n",
       "      <td>52.00</td>\n",
       "      <td>52.00</td>\n",
       "      <td>66.0</td>\n",
       "      <td>59.43</td>\n",
       "      <td>0.0</td>\n",
       "      <td>1</td>\n",
       "      <td>0</td>\n",
       "      <td>0</td>\n",
       "      <td>0</td>\n",
       "      <td>1</td>\n",
       "      <td>0</td>\n",
       "      <td>1</td>\n",
       "      <td>0</td>\n",
       "      <td>1</td>\n",
       "      <td>0</td>\n",
       "    </tr>\n",
       "    <tr>\n",
       "      <th>4</th>\n",
       "      <td>85.80</td>\n",
       "      <td>73.60</td>\n",
       "      <td>73.30</td>\n",
       "      <td>96.8</td>\n",
       "      <td>55.50</td>\n",
       "      <td>425000.0</td>\n",
       "      <td>1</td>\n",
       "      <td>0</td>\n",
       "      <td>0</td>\n",
       "      <td>1</td>\n",
       "      <td>0</td>\n",
       "      <td>0</td>\n",
       "      <td>0</td>\n",
       "      <td>0</td>\n",
       "      <td>0</td>\n",
       "      <td>1</td>\n",
       "    </tr>\n",
       "    <tr>\n",
       "      <th>...</th>\n",
       "      <td>...</td>\n",
       "      <td>...</td>\n",
       "      <td>...</td>\n",
       "      <td>...</td>\n",
       "      <td>...</td>\n",
       "      <td>...</td>\n",
       "      <td>...</td>\n",
       "      <td>...</td>\n",
       "      <td>...</td>\n",
       "      <td>...</td>\n",
       "      <td>...</td>\n",
       "      <td>...</td>\n",
       "      <td>...</td>\n",
       "      <td>...</td>\n",
       "      <td>...</td>\n",
       "      <td>...</td>\n",
       "    </tr>\n",
       "    <tr>\n",
       "      <th>210</th>\n",
       "      <td>80.60</td>\n",
       "      <td>82.00</td>\n",
       "      <td>77.60</td>\n",
       "      <td>91.0</td>\n",
       "      <td>74.49</td>\n",
       "      <td>400000.0</td>\n",
       "      <td>1</td>\n",
       "      <td>1</td>\n",
       "      <td>1</td>\n",
       "      <td>1</td>\n",
       "      <td>0</td>\n",
       "      <td>0</td>\n",
       "      <td>0</td>\n",
       "      <td>0</td>\n",
       "      <td>0</td>\n",
       "      <td>1</td>\n",
       "    </tr>\n",
       "    <tr>\n",
       "      <th>211</th>\n",
       "      <td>58.00</td>\n",
       "      <td>60.00</td>\n",
       "      <td>72.00</td>\n",
       "      <td>74.0</td>\n",
       "      <td>53.62</td>\n",
       "      <td>275000.0</td>\n",
       "      <td>1</td>\n",
       "      <td>1</td>\n",
       "      <td>1</td>\n",
       "      <td>0</td>\n",
       "      <td>1</td>\n",
       "      <td>0</td>\n",
       "      <td>1</td>\n",
       "      <td>0</td>\n",
       "      <td>0</td>\n",
       "      <td>1</td>\n",
       "    </tr>\n",
       "    <tr>\n",
       "      <th>212</th>\n",
       "      <td>67.00</td>\n",
       "      <td>67.00</td>\n",
       "      <td>73.00</td>\n",
       "      <td>59.0</td>\n",
       "      <td>69.72</td>\n",
       "      <td>295000.0</td>\n",
       "      <td>1</td>\n",
       "      <td>1</td>\n",
       "      <td>1</td>\n",
       "      <td>1</td>\n",
       "      <td>0</td>\n",
       "      <td>0</td>\n",
       "      <td>0</td>\n",
       "      <td>1</td>\n",
       "      <td>0</td>\n",
       "      <td>1</td>\n",
       "    </tr>\n",
       "    <tr>\n",
       "      <th>213</th>\n",
       "      <td>74.00</td>\n",
       "      <td>66.00</td>\n",
       "      <td>58.00</td>\n",
       "      <td>70.0</td>\n",
       "      <td>60.23</td>\n",
       "      <td>204000.0</td>\n",
       "      <td>0</td>\n",
       "      <td>1</td>\n",
       "      <td>1</td>\n",
       "      <td>1</td>\n",
       "      <td>0</td>\n",
       "      <td>0</td>\n",
       "      <td>0</td>\n",
       "      <td>0</td>\n",
       "      <td>1</td>\n",
       "      <td>1</td>\n",
       "    </tr>\n",
       "    <tr>\n",
       "      <th>214</th>\n",
       "      <td>62.00</td>\n",
       "      <td>58.00</td>\n",
       "      <td>53.00</td>\n",
       "      <td>89.0</td>\n",
       "      <td>60.22</td>\n",
       "      <td>0.0</td>\n",
       "      <td>1</td>\n",
       "      <td>0</td>\n",
       "      <td>1</td>\n",
       "      <td>0</td>\n",
       "      <td>1</td>\n",
       "      <td>0</td>\n",
       "      <td>0</td>\n",
       "      <td>0</td>\n",
       "      <td>1</td>\n",
       "      <td>0</td>\n",
       "    </tr>\n",
       "  </tbody>\n",
       "</table>\n",
       "<p>215 rows × 16 columns</p>\n",
       "</div>"
      ],
      "text/plain": [
       "     ssc_p  hsc_p  degree_p  etest_p  mba_p    salary  gender_M  ssc_b_Others  \\\n",
       "0    67.00  91.00     58.00     55.0  58.80  270000.0         1             1   \n",
       "1    79.33  78.33     77.48     86.5  66.28  200000.0         1             0   \n",
       "2    65.00  68.00     64.00     75.0  57.80  250000.0         1             0   \n",
       "3    56.00  52.00     52.00     66.0  59.43       0.0         1             0   \n",
       "4    85.80  73.60     73.30     96.8  55.50  425000.0         1             0   \n",
       "..     ...    ...       ...      ...    ...       ...       ...           ...   \n",
       "210  80.60  82.00     77.60     91.0  74.49  400000.0         1             1   \n",
       "211  58.00  60.00     72.00     74.0  53.62  275000.0         1             1   \n",
       "212  67.00  67.00     73.00     59.0  69.72  295000.0         1             1   \n",
       "213  74.00  66.00     58.00     70.0  60.23  204000.0         0             1   \n",
       "214  62.00  58.00     53.00     89.0  60.22       0.0         1             0   \n",
       "\n",
       "     hsc_b_Others  hsc_s_Commerce  hsc_s_Science  degree_t_Others  \\\n",
       "0               1               1              0                0   \n",
       "1               1               0              1                0   \n",
       "2               0               0              0                0   \n",
       "3               0               0              1                0   \n",
       "4               0               1              0                0   \n",
       "..            ...             ...            ...              ...   \n",
       "210             1               1              0                0   \n",
       "211             1               0              1                0   \n",
       "212             1               1              0                0   \n",
       "213             1               1              0                0   \n",
       "214             1               0              1                0   \n",
       "\n",
       "     degree_t_Sci&Tech  workex_Yes  specialisation_Mkt&HR  status_Placed  \n",
       "0                    1           0                      1              1  \n",
       "1                    1           1                      0              1  \n",
       "2                    0           0                      0              1  \n",
       "3                    1           0                      1              0  \n",
       "4                    0           0                      0              1  \n",
       "..                 ...         ...                    ...            ...  \n",
       "210                  0           0                      0              1  \n",
       "211                  1           0                      0              1  \n",
       "212                  0           1                      0              1  \n",
       "213                  0           0                      1              1  \n",
       "214                  0           0                      1              0  \n",
       "\n",
       "[215 rows x 16 columns]"
      ]
     },
     "execution_count": 73,
     "metadata": {},
     "output_type": "execute_result"
    }
   ],
   "source": [
    "x_encoded"
   ]
  },
  {
   "cell_type": "code",
   "execution_count": 74,
   "id": "4ef4488e",
   "metadata": {},
   "outputs": [
    {
     "data": {
      "text/plain": [
       "StandardScaler()"
      ]
     },
     "execution_count": 74,
     "metadata": {},
     "output_type": "execute_result"
    }
   ],
   "source": [
    "# to fit the numeric column into standard values\n",
    "scaler = StandardScaler()\n",
    "scaler.fit(x_encoded)"
   ]
  },
  {
   "cell_type": "code",
   "execution_count": 76,
   "id": "b15e9478",
   "metadata": {},
   "outputs": [],
   "source": [
    "x_train, x_test, y_train, y_test = train_test_split(x_encoded, y, test_size=0.3, random_state=45)"
   ]
  },
  {
   "cell_type": "code",
   "execution_count": 77,
   "id": "ab4a2064",
   "metadata": {},
   "outputs": [],
   "source": [
    "def model_build(x_train, y_train):\n",
    "    Logit_Model = LogisticRegression()\n",
    "    Logit_Model.fit(x_train,y_train)\n",
    "    decision_tree = DecisionTreeClassifier(criterion = 'entropy')\n",
    "    decision_tree.fit(x_train,y_train)\n",
    "    random_forest = RandomForestClassifier(n_estimators=10)\n",
    "    random_forest.fit(x_train, y_train)\n",
    "    models = {'logis': Logit_Model, 'decision tree': decision_tree, 'random_forest': random_forest}\n",
    "    return models"
   ]
  },
  {
   "cell_type": "code",
   "execution_count": 78,
   "id": "47e8bbb3",
   "metadata": {},
   "outputs": [
    {
     "data": {
      "text/plain": [
       "{'logis': LogisticRegression(),\n",
       " 'decision tree': DecisionTreeClassifier(criterion='entropy'),\n",
       " 'random_forest': RandomForestClassifier(n_estimators=10)}"
      ]
     },
     "execution_count": 78,
     "metadata": {},
     "output_type": "execute_result"
    }
   ],
   "source": [
    "model_build(x_train, y_train)"
   ]
  },
  {
   "cell_type": "code",
   "execution_count": 89,
   "id": "a5911eca",
   "metadata": {},
   "outputs": [
    {
     "data": {
      "text/plain": [
       "RandomForestClassifier(n_estimators=5)"
      ]
     },
     "execution_count": 89,
     "metadata": {},
     "output_type": "execute_result"
    }
   ],
   "source": [
    "Logit_Model = LogisticRegression()\n",
    "Logit_Model.fit(x_train,y_train)\n",
    "decision_tree = DecisionTreeClassifier(criterion = 'entropy')\n",
    "decision_tree.fit(x_train,y_train)\n",
    "random_forest = RandomForestClassifier(n_estimators=5)\n",
    "random_forest.fit(x_train, y_train)\n"
   ]
  },
  {
   "cell_type": "code",
   "execution_count": 90,
   "id": "1ce5a5da",
   "metadata": {},
   "outputs": [],
   "source": [
    "    models = {'logis': Logit_Model, 'decision tree': decision_tree, 'random_forest': random_forest}"
   ]
  },
  {
   "cell_type": "code",
   "execution_count": 91,
   "id": "300ce8a3",
   "metadata": {},
   "outputs": [
    {
     "name": "stdout",
     "output_type": "stream",
     "text": [
      "training results logis\n",
      "              precision    recall  f1-score   support\n",
      "\n",
      "  Not Placed       1.00      1.00      1.00        52\n",
      "      Placed       1.00      1.00      1.00        98\n",
      "\n",
      "    accuracy                           1.00       150\n",
      "   macro avg       1.00      1.00      1.00       150\n",
      "weighted avg       1.00      1.00      1.00       150\n",
      "\n",
      "Confusion matrix\n",
      "[[52  0]\n",
      " [ 0 98]]\n",
      "Test Results\n",
      "              precision    recall  f1-score   support\n",
      "\n",
      "  Not Placed       1.00      1.00      1.00        15\n",
      "      Placed       1.00      1.00      1.00        50\n",
      "\n",
      "    accuracy                           1.00        65\n",
      "   macro avg       1.00      1.00      1.00        65\n",
      "weighted avg       1.00      1.00      1.00        65\n",
      "\n",
      "Confusion matrix\n",
      "[[15  0]\n",
      " [ 0 50]]\n",
      "training results decision tree\n",
      "              precision    recall  f1-score   support\n",
      "\n",
      "  Not Placed       1.00      1.00      1.00        52\n",
      "      Placed       1.00      1.00      1.00        98\n",
      "\n",
      "    accuracy                           1.00       150\n",
      "   macro avg       1.00      1.00      1.00       150\n",
      "weighted avg       1.00      1.00      1.00       150\n",
      "\n",
      "Confusion matrix\n",
      "[[52  0]\n",
      " [ 0 98]]\n",
      "Test Results\n",
      "              precision    recall  f1-score   support\n",
      "\n",
      "  Not Placed       1.00      1.00      1.00        15\n",
      "      Placed       1.00      1.00      1.00        50\n",
      "\n",
      "    accuracy                           1.00        65\n",
      "   macro avg       1.00      1.00      1.00        65\n",
      "weighted avg       1.00      1.00      1.00        65\n",
      "\n",
      "Confusion matrix\n",
      "[[15  0]\n",
      " [ 0 50]]\n",
      "training results random_forest\n",
      "              precision    recall  f1-score   support\n",
      "\n",
      "  Not Placed       1.00      1.00      1.00        52\n",
      "      Placed       1.00      1.00      1.00        98\n",
      "\n",
      "    accuracy                           1.00       150\n",
      "   macro avg       1.00      1.00      1.00       150\n",
      "weighted avg       1.00      1.00      1.00       150\n",
      "\n",
      "Confusion matrix\n",
      "[[52  0]\n",
      " [ 0 98]]\n",
      "Test Results\n",
      "              precision    recall  f1-score   support\n",
      "\n",
      "  Not Placed       1.00      1.00      1.00        15\n",
      "      Placed       1.00      1.00      1.00        50\n",
      "\n",
      "    accuracy                           1.00        65\n",
      "   macro avg       1.00      1.00      1.00        65\n",
      "weighted avg       1.00      1.00      1.00        65\n",
      "\n",
      "Confusion matrix\n",
      "[[15  0]\n",
      " [ 0 50]]\n"
     ]
    }
   ],
   "source": [
    "results(x_train, x_test, y_train, y_test, models)"
   ]
  },
  {
   "cell_type": "code",
   "execution_count": null,
   "id": "4572e825",
   "metadata": {},
   "outputs": [],
   "source": []
  },
  {
   "cell_type": "code",
   "execution_count": null,
   "id": "84c7e650",
   "metadata": {},
   "outputs": [],
   "source": []
  }
 ],
 "metadata": {
  "kernelspec": {
   "display_name": "Python 3 (ipykernel)",
   "language": "python",
   "name": "python3"
  },
  "language_info": {
   "codemirror_mode": {
    "name": "ipython",
    "version": 3
   },
   "file_extension": ".py",
   "mimetype": "text/x-python",
   "name": "python",
   "nbconvert_exporter": "python",
   "pygments_lexer": "ipython3",
   "version": "3.9.13"
  }
 },
 "nbformat": 4,
 "nbformat_minor": 5
}
